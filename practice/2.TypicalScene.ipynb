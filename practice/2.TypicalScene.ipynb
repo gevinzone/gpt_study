{
 "cells": [
  {
   "metadata": {},
   "cell_type": "markdown",
   "source": "# 常见场景",
   "id": "c1349533867020a6"
  },
  {
   "metadata": {},
   "cell_type": "markdown",
   "source": "## 意图识别",
   "id": "a49ba6806c3bc446"
  },
  {
   "metadata": {
    "ExecuteTime": {
     "end_time": "2024-06-06T14:52:50.152379Z",
     "start_time": "2024-06-06T14:52:50.149902Z"
    }
   },
   "cell_type": "code",
   "source": [
    "deployment = \"gpt-4o\"\n",
    "model = \"gpt-4o\""
   ],
   "id": "3850c420867e14c5",
   "outputs": [],
   "execution_count": 1
  },
  {
   "metadata": {
    "ExecuteTime": {
     "end_time": "2024-06-06T14:52:55.837776Z",
     "start_time": "2024-06-06T14:52:50.157486Z"
    }
   },
   "cell_type": "code",
   "source": [
    "\n",
    "import os\n",
    "from openai import AzureOpenAI\n",
    "from openai.types.chat import ChatCompletion\n",
    "\n",
    "client = AzureOpenAI(\n",
    "    api_key=os.getenv(\"OPENAI_API_KEY\"),\n",
    "    api_version=os.getenv(\"OPENAI_API_VERSION\"),\n",
    "    # api_version=\"2023-12-01-preview\", # 这个版本无 404 问题\n",
    "    azure_endpoint=os.getenv(\"OPENAI_API_BASE\")\n",
    ")\n",
    "\n",
    "\n",
    "def chat(message: str) -> ChatCompletion:\n",
    "    return client.chat.completions.create(\n",
    "        model=deployment,\n",
    "        messages=message,\n",
    "        temperature=0.8,\n",
    "        max_tokens=1000\n",
    "    )\n",
    "\n",
    "\n",
    "messages = [\n",
    "    [\n",
    "        {\"role\": \"system\", \"content\": \"Recognize intent from user's input\"},\n",
    "        {\"role\": \"user\", \"content\": \"提醒我明早8点有会议\"},\n",
    "    ],\n",
    "    [\n",
    "        {\"role\": \"system\", \"content\": \"Recognize intent from user's input\"},\n",
    "        {\"role\": \"user\", \"content\": \"订明天早5点北京到上海的飞机\"},\n",
    "    ]\n",
    "]\n",
    "\n",
    "for msg in messages:\n",
    "    res = chat(msg)\n",
    "    print(res.choices[0].message.content, res.usage.total_tokens)\n"
   ],
   "id": "968b607c8c8e52a9",
   "outputs": [
    {
     "name": "stdout",
     "output_type": "stream",
     "text": [
      "好的，我会提醒你明早8点有会议。 37\n",
      "好的，您是需要我帮您预订明天早上5点从北京到上海的航班，对吗？请问您有偏好的航空公司吗？另外，请提供您的姓名和联系方式以便完成预订。 77\n"
     ]
    }
   ],
   "execution_count": 2
  },
  {
   "metadata": {},
   "cell_type": "markdown",
   "source": "# 生成 SQL",
   "id": "6f0a27a54b08b217"
  },
  {
   "metadata": {
    "ExecuteTime": {
     "end_time": "2024-06-06T14:53:02.802900Z",
     "start_time": "2024-06-06T14:52:55.839278Z"
    }
   },
   "cell_type": "code",
   "source": [
    "from openai import AzureOpenAI\n",
    "\n",
    "client = AzureOpenAI(\n",
    "    api_key=os.getenv(\"OPENAI_API_KEY\"),\n",
    "    api_version=os.getenv(\"OPENAI_API_VERSION\"),\n",
    "    azure_endpoint=os.getenv(\"OPENAI_API_BASE\")\n",
    ")\n",
    "\n",
    "system_prompt = \"\"\"You are a software engineer, you can answer the user request based on the given tables:\n",
    "                  table “students“ with the columns [id, name, course_id, score] \n",
    "                  table \"courses\" with the columns [id, name] \"\"\"\n",
    "\n",
    "response = client.chat.completions.create(\n",
    "    model=deployment,\n",
    "    messages=[\n",
    "        {\"role\": \"system\", \"content\": system_prompt},\n",
    "        {\"role\": \"user\", \"content\": \"计算所有学生英语课程的平均成绩\"}\n",
    "    ],\n",
    "    max_tokens=500\n",
    ")\n",
    "\n",
    "print(response.choices[0].message.content)\n"
   ],
   "id": "8e34ac617f807f57",
   "outputs": [
    {
     "name": "stdout",
     "output_type": "stream",
     "text": [
      "要计算所有学生英语课程的平均成绩，你需要同时使用 \"students\" 和 \"courses\" 表。以下是一个 SQL 查询示例，用于完成这个任务：\n",
      "\n",
      "```sql\n",
      "SELECT AVG(s.score) AS avg_english_score\n",
      "FROM students s\n",
      "JOIN courses c ON s.course_id = c.id\n",
      "WHERE c.name = '英语';\n",
      "```\n",
      "\n",
      "这个查询的执行步骤如下：\n",
      "1. 使用 JOIN 将 \"students\" 表与 \"courses\" 表连接起来，条件是 `students.course_id` 等于 `courses.id`。\n",
      "2. 在 WHERE 子句中，过滤出课程名称为 '英语' 的记录。\n",
      "3. 使用 `AVG(s.score)` 函数计算筛选出的英语课程记录的平均分数。\n",
      "\n",
      "查询输出将会是所有学生的英语课程的平均成绩。\n"
     ]
    }
   ],
   "execution_count": 3
  },
  {
   "metadata": {},
   "cell_type": "markdown",
   "source": "# 生成代码友好的提示词",
   "id": "838b284bf81de98c"
  },
  {
   "metadata": {
    "ExecuteTime": {
     "end_time": "2024-06-06T14:53:05.873120Z",
     "start_time": "2024-06-06T14:53:02.804669Z"
    }
   },
   "cell_type": "code",
   "source": [
    "from openai import AzureOpenAI\n",
    "\n",
    "client = AzureOpenAI(\n",
    "    api_key=os.getenv(\"OPENAI_API_KEY\"),\n",
    "    api_version=os.getenv(\"OPENAI_API_VERSION\"),\n",
    "    azure_endpoint=os.getenv(\"OPENAI_API_BASE\")\n",
    ")\n",
    "\n",
    "sys_prompt = \"\"\"Recognize the intent from the user's input and format output as JSON string. \n",
    "        The output JSON string includes: \"intention\", \"parameters\" \"\"\"\n",
    "\n",
    "response = client.chat.completions.create(\n",
    "    model=deployment,\n",
    "    temperature=0.8,\n",
    "    messages=[\n",
    "        {\"role\": \"system\", \"content\": sys_prompt},\n",
    "        {\"role\": \"user\", \"content\": \"提醒我明早8点有会议\"}\n",
    "    ],\n",
    ")\n",
    "\n",
    "print(response.choices[0].message.content, response.usage.total_tokens)"
   ],
   "id": "c6b8244633a90821",
   "outputs": [
    {
     "name": "stdout",
     "output_type": "stream",
     "text": [
      "```json\n",
      "{\n",
      "  \"intention\": \"set_reminder\",\n",
      "  \"parameters\": {\n",
      "    \"time\": \"明早8点\",\n",
      "    \"event\": \"会议\"\n",
      "  }\n",
      "}\n",
      "``` 90\n"
     ]
    }
   ],
   "execution_count": 4
  },
  {
   "metadata": {
    "ExecuteTime": {
     "end_time": "2024-06-06T14:53:14.672669Z",
     "start_time": "2024-06-06T14:53:05.875265Z"
    }
   },
   "cell_type": "code",
   "source": [
    "from openai import AzureOpenAI\n",
    "\n",
    "client = AzureOpenAI(\n",
    "    api_key=os.getenv(\"OPENAI_API_KEY\"),\n",
    "    api_version=os.getenv(\"OPENAI_API_VERSION\"),\n",
    "    azure_endpoint=os.getenv(\"OPENAI_API_BASE\")\n",
    ")\n",
    "\n",
    "system_prompt = \"\"\"You are a software engineer, you can write a SQL string as the answer to the user request based on the given tables:\n",
    "                  table “students“ with the columns [id, name, course_id, score] \n",
    "                  table \"courses\" with the columns [id, name] \"\"\"\n",
    "\n",
    "response = client.chat.completions.create(\n",
    "    model=deployment,\n",
    "    messages=[\n",
    "        {\"role\": \"system\", \"content\": system_prompt},\n",
    "        {\"role\": \"user\", \"content\": \"计算所有学生英语课程的平均成绩\"}\n",
    "    ],\n",
    "    max_tokens=500\n",
    ")\n",
    "\n",
    "print(response.choices[0].message.content)"
   ],
   "id": "6029bf39c570abce",
   "outputs": [
    {
     "name": "stdout",
     "output_type": "stream",
     "text": [
      "```sql\n",
      "SELECT AVG(students.score) AS average_english_score\n",
      "FROM students\n",
      "JOIN courses ON students.course_id = courses.id\n",
      "WHERE courses.name = '英语';\n",
      "```\n"
     ]
    }
   ],
   "execution_count": 5
  },
  {
   "metadata": {},
   "cell_type": "markdown",
   "source": "# 文本规范异常输出的格式",
   "id": "d5530c5ad0cd7825"
  },
  {
   "metadata": {
    "ExecuteTime": {
     "end_time": "2024-06-06T14:53:16.129616Z",
     "start_time": "2024-06-06T14:53:14.673671Z"
    }
   },
   "cell_type": "code",
   "source": [
    "from openai import AzureOpenAI\n",
    "\n",
    "client = AzureOpenAI(\n",
    "    api_key=os.getenv(\"OPENAI_API_KEY\"),\n",
    "    api_version=os.getenv(\"OPENAI_API_VERSION\"),\n",
    "    azure_endpoint=os.getenv(\"OPENAI_API_BASE\")\n",
    ")\n",
    "\n",
    "system_prompt = \"\"\"You are a software engineer, you can write a SQL string as the answer to the user request based on the given tables:\n",
    "1. table “students“ with the columns [id, name, course_id, score] \n",
    "2. table \"courses\" with the columns [id, name] \n",
    "when you cannot create the SQL query for the user's request based on the given tables, please, only return \"invalid request\" \n",
    "                  \"\"\"\n",
    "\n",
    "response = client.chat.completions.create(\n",
    "    model=deployment,\n",
    "    messages=[\n",
    "        {\"role\": \"system\", \"content\": system_prompt},\n",
    "        # {\"role\": \"user\", \"content\": \"计算所有学生英语课程的平均成绩\"}\n",
    "        {\"role\": \"user\", \"content\": \"列出年龄大于13的学生\"}\n",
    "    ],\n",
    "    max_tokens=500\n",
    ")\n",
    "\n",
    "print(response.choices[0].message.content)"
   ],
   "id": "93385693609e5070",
   "outputs": [
    {
     "name": "stdout",
     "output_type": "stream",
     "text": [
      "invalid request\n"
     ]
    }
   ],
   "execution_count": 6
  },
  {
   "metadata": {},
   "cell_type": "markdown",
   "source": "# Practice",
   "id": "538252b5943b5b1d"
  },
  {
   "metadata": {
    "ExecuteTime": {
     "end_time": "2024-06-06T14:53:16.139285Z",
     "start_time": "2024-06-06T14:53:16.130401Z"
    }
   },
   "cell_type": "code",
   "source": [
    "import os\n",
    "from openai import AzureOpenAI\n",
    "from openai.types.chat import ChatCompletion\n",
    "\n",
    "client = AzureOpenAI(\n",
    "    api_key=os.getenv(\"OPENAI_API_KEY\"),\n",
    "    api_version=os.getenv(\"OPENAI_API_VERSION\"),\n",
    "    azure_endpoint=os.getenv(\"OPENAI_API_BASE\")\n",
    ")\n",
    "\n",
    "system_prompt = \"\"\"You are a helpful assistant. Please analyse user's reviews following this instruction:\n",
    "    If the reviews are positive, return 'Y'; otherwise return 'N'. \"\"\"\n",
    "\n",
    "deployment = \"gpt-4o\"\n",
    "\n",
    "\n",
    "def analyze_reviews(reviews: str) -> ChatCompletion:\n",
    "    resp = client.chat.completions.create(\n",
    "        model=deployment,\n",
    "        messages=[\n",
    "            {\"role\": \"system\", \"content\": system_prompt},\n",
    "            {\"role\": \"user\", \"content\": reviews}\n",
    "        ],\n",
    "        max_tokens=500\n",
    "    )\n",
    "    return resp\n",
    "\n",
    "    "
   ],
   "id": "29697ce37b977e3e",
   "outputs": [],
   "execution_count": 7
  },
  {
   "metadata": {
    "ExecuteTime": {
     "end_time": "2024-06-06T14:53:22.155818Z",
     "start_time": "2024-06-06T14:53:16.140197Z"
    }
   },
   "cell_type": "code",
   "source": [
    "reviews = [\n",
    "    \"This product is amazing! I love it.\",\n",
    "    \"The service was terrible. I will never buy from them again.\",\n",
    "    \"The product is okay. It works, but could be better.\",\n",
    "    \"I'm not sure about the product. It seems to work fine.\",\n",
    "    \"The customer service was great. They were very helpful.\",\n",
    "    \"The product broke after a few days. I'm not sure if it's worth the money.\",\n",
    "    \"The product arrived damaged. I'm not sure if it's worth the money.\", ]\n",
    "\n",
    "\n",
    "def show_result(resp: ChatCompletion):\n",
    "    print(resp.choices[0].message.content, \"token: \", resp.usage.total_tokens)\n",
    "    \n",
    "for review in reviews:\n",
    "    show_result(analyze_reviews(review))"
   ],
   "id": "fe7112a8dc270dc5",
   "outputs": [
    {
     "name": "stdout",
     "output_type": "stream",
     "text": [
      "Y token:  52\n",
      "N token:  56\n",
      "N token:  56\n",
      "N token:  56\n",
      "Y token:  54\n",
      "N token:  60\n",
      "N token:  57\n"
     ]
    }
   ],
   "execution_count": 8
  },
  {
   "metadata": {
    "ExecuteTime": {
     "end_time": "2024-06-06T14:53:22.158122Z",
     "start_time": "2024-06-06T14:53:22.156645Z"
    }
   },
   "cell_type": "code",
   "source": "",
   "id": "db9dbc196bc7e15b",
   "outputs": [],
   "execution_count": 8
  }
 ],
 "metadata": {
  "kernelspec": {
   "display_name": "Python 3",
   "language": "python",
   "name": "python3"
  },
  "language_info": {
   "codemirror_mode": {
    "name": "ipython",
    "version": 2
   },
   "file_extension": ".py",
   "mimetype": "text/x-python",
   "name": "python",
   "nbconvert_exporter": "python",
   "pygments_lexer": "ipython2",
   "version": "2.7.6"
  }
 },
 "nbformat": 4,
 "nbformat_minor": 5
}
