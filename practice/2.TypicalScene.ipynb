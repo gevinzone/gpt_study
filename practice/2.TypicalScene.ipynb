{
 "cells": [
  {
   "metadata": {},
   "cell_type": "markdown",
   "source": "# 常见场景",
   "id": "c1349533867020a6"
  },
  {
   "metadata": {},
   "cell_type": "markdown",
   "source": "## 意图识别",
   "id": "a49ba6806c3bc446"
  },
  {
   "metadata": {
    "ExecuteTime": {
     "end_time": "2024-06-05T12:27:20.581722Z",
     "start_time": "2024-06-05T12:27:20.579191Z"
    }
   },
   "cell_type": "code",
   "source": [
    "deployment = \"gpt-4o\"\n",
    "model = \"gpt-4o\""
   ],
   "id": "3850c420867e14c5",
   "outputs": [],
   "execution_count": 1
  },
  {
   "metadata": {
    "ExecuteTime": {
     "end_time": "2024-06-05T12:27:25.659678Z",
     "start_time": "2024-06-05T12:27:20.583656Z"
    }
   },
   "cell_type": "code",
   "source": [
    "\n",
    "import os\n",
    "from openai import AzureOpenAI\n",
    "from openai.types.chat import ChatCompletion\n",
    "\n",
    "client = AzureOpenAI(\n",
    "    api_key=os.getenv(\"OPENAI_API_KEY\"),\n",
    "    api_version=os.getenv(\"OPENAI_API_VERSION\"),\n",
    "    # api_version=\"2023-12-01-preview\", # 这个版本无 404 问题\n",
    "    azure_endpoint=os.getenv(\"OPENAI_API_BASE\")\n",
    ")\n",
    "\n",
    "\n",
    "def chat(message: str) -> ChatCompletion:\n",
    "    return client.chat.completions.create(\n",
    "        model=deployment,\n",
    "        messages=message,\n",
    "        temperature=0.8,\n",
    "        max_tokens=1000\n",
    "    )\n",
    "\n",
    "\n",
    "messages = [\n",
    "    [\n",
    "        {\"role\": \"system\", \"content\": \"Recognize intent from user's input\"},\n",
    "        {\"role\": \"user\", \"content\": \"提醒我明早8点有会议\"},\n",
    "    ],\n",
    "    [\n",
    "        {\"role\": \"system\", \"content\": \"Recognize intent from user's input\"},\n",
    "        {\"role\": \"user\", \"content\": \"订明天早5点北京到上海的飞机\"},\n",
    "    ]\n",
    "]\n",
    "\n",
    "for msg in messages:\n",
    "    res = chat(msg)\n",
    "    print(res.choices[0].message.content, res.usage.total_tokens)\n"
   ],
   "id": "968b607c8c8e52a9",
   "outputs": [
    {
     "name": "stdout",
     "output_type": "stream",
     "text": [
      "好的，我会提醒你明早8点有会议。 37\n",
      "好的，您要预订明天早上5点从北京到上海的飞机。我会帮您查询相关的航班信息并进行预订。 61\n"
     ]
    }
   ],
   "execution_count": 2
  },
  {
   "metadata": {},
   "cell_type": "markdown",
   "source": "# 生成 SQL",
   "id": "6f0a27a54b08b217"
  },
  {
   "metadata": {
    "ExecuteTime": {
     "end_time": "2024-06-05T13:11:37.191349Z",
     "start_time": "2024-06-05T13:11:29.140082Z"
    }
   },
   "cell_type": "code",
   "source": [
    "from openai import AzureOpenAI\n",
    "\n",
    "client = AzureOpenAI(\n",
    "    api_key=os.getenv(\"OPENAI_API_KEY\"),\n",
    "    api_version=os.getenv(\"OPENAI_API_VERSION\"),\n",
    "    azure_endpoint=os.getenv(\"OPENAI_API_BASE\")\n",
    ")\n",
    "\n",
    "system_prompt = \"\"\"You are a software engineer, you can answer the user request based on the given tables:\n",
    "                  table “students“ with the columns [id, name, course_id, score] \n",
    "                  table \"courses\" with the columns [id, name] \"\"\"\n",
    "\n",
    "response = client.chat.completions.create(\n",
    "    model=deployment,\n",
    "    messages=[\n",
    "        {\"role\": \"system\", \"content\": system_prompt},\n",
    "        {\"role\": \"user\", \"content\": \"计算所有学生英语课程的平均成绩\"}\n",
    "    ],\n",
    "    max_tokens=500\n",
    ")\n",
    "\n",
    "print(response.choices[0].message.content)\n"
   ],
   "id": "8e34ac617f807f57",
   "outputs": [
    {
     "name": "stdout",
     "output_type": "stream",
     "text": [
      "为了计算所有学生英语课程的平均成绩，你需要查询两个表格并进行关联。首先，查找英语课程的ID，然后计算该课程中所有学生的平均成绩。\n",
      "\n",
      "假设表结构如下：\n",
      "- `students` 表：\n",
      "  - `id`: 学生ID\n",
      "  - `name`: 学生姓名\n",
      "  - `course_id`: 课程ID\n",
      "  - `score`: 成绩\n",
      "\n",
      "- `courses` 表：\n",
      "  - `id`: 课程ID\n",
      "  - `name`: 课程名称\n",
      "\n",
      "可以使用以下SQL查询来计算英语课程学生的平均成绩：\n",
      "\n",
      "```sql\n",
      "SELECT AVG(s.score) AS average_score\n",
      "FROM students s\n",
      "JOIN courses c ON s.course_id = c.id\n",
      "WHERE c.name = '英语';\n",
      "```\n",
      "\n",
      "这个查询首先将 `students` 表和 `courses` 表通过 `course_id` 和 `id` 进行连接，然后过滤出课程名称为 \"英语\" 的记录，最后计算这些记录的平均成绩。\n"
     ]
    }
   ],
   "execution_count": 4
  },
  {
   "metadata": {},
   "cell_type": "markdown",
   "source": "# 生成代码友好的提示词",
   "id": "838b284bf81de98c"
  },
  {
   "metadata": {
    "ExecuteTime": {
     "end_time": "2024-06-05T13:19:31.062910Z",
     "start_time": "2024-06-05T13:19:27.863155Z"
    }
   },
   "cell_type": "code",
   "source": [
    "from openai import AzureOpenAI\n",
    "\n",
    "client = AzureOpenAI(\n",
    "    api_key=os.getenv(\"OPENAI_API_KEY\"),\n",
    "    api_version=os.getenv(\"OPENAI_API_VERSION\"),\n",
    "    azure_endpoint=os.getenv(\"OPENAI_API_BASE\")\n",
    ")\n",
    "\n",
    "sys_prompt = \"\"\"Recognize the intent from the user's input and format output as JSON string. \n",
    "        The output JSON string includes: \"intention\", \"parameters\" \"\"\"\n",
    "\n",
    "response = client.chat.completions.create(\n",
    "    model=deployment,\n",
    "    temperature=0.8,\n",
    "    messages=[\n",
    "        {\"role\": \"system\", \"content\": sys_prompt},\n",
    "        {\"role\": \"user\", \"content\": \"提醒我明早8点有会议\"}\n",
    "    ],\n",
    ")\n",
    "\n",
    "print(response.choices[0].message.content, response.usage.total_tokens) "
   ],
   "id": "c6b8244633a90821",
   "outputs": [
    {
     "name": "stdout",
     "output_type": "stream",
     "text": [
      "```json\n",
      "{\n",
      "  \"intention\": \"set_reminder\",\n",
      "  \"parameters\": {\n",
      "    \"time\": \"8:00 AM\",\n",
      "    \"event\": \"meeting\"\n",
      "  }\n",
      "}\n",
      "``` 90\n"
     ]
    }
   ],
   "execution_count": 5
  },
  {
   "metadata": {
    "ExecuteTime": {
     "end_time": "2024-06-05T13:22:02.925168Z",
     "start_time": "2024-06-05T13:21:59.566207Z"
    }
   },
   "cell_type": "code",
   "source": [
    "from openai import AzureOpenAI\n",
    "\n",
    "client = AzureOpenAI(\n",
    "    api_key=os.getenv(\"OPENAI_API_KEY\"),\n",
    "    api_version=os.getenv(\"OPENAI_API_VERSION\"),\n",
    "    azure_endpoint=os.getenv(\"OPENAI_API_BASE\")\n",
    ")\n",
    "\n",
    "system_prompt = \"\"\"You are a software engineer, you can write a SQL string as the answer to the user request based on the given tables:\n",
    "                  table “students“ with the columns [id, name, course_id, score] \n",
    "                  table \"courses\" with the columns [id, name] \"\"\"\n",
    "\n",
    "response = client.chat.completions.create(\n",
    "    model=deployment,\n",
    "    messages=[\n",
    "        {\"role\": \"system\", \"content\": system_prompt},\n",
    "        {\"role\": \"user\", \"content\": \"计算所有学生英语课程的平均成绩\"}\n",
    "    ],\n",
    "    max_tokens=500\n",
    ")\n",
    "\n",
    "print(response.choices[0].message.content)"
   ],
   "id": "6029bf39c570abce",
   "outputs": [
    {
     "name": "stdout",
     "output_type": "stream",
     "text": [
      "```sql\n",
      "SELECT AVG(s.score) AS average_score\n",
      "FROM students s\n",
      "JOIN courses c\n",
      "ON s.course_id = c.id\n",
      "WHERE c.name = '英语';\n",
      "```\n"
     ]
    }
   ],
   "execution_count": 6
  },
  {
   "metadata": {},
   "cell_type": "markdown",
   "source": "# 文本规范异常输出的格式",
   "id": "d5530c5ad0cd7825"
  },
  {
   "metadata": {
    "ExecuteTime": {
     "end_time": "2024-06-05T13:26:49.964636Z",
     "start_time": "2024-06-05T13:26:48.358779Z"
    }
   },
   "cell_type": "code",
   "source": [
    "from openai import AzureOpenAI\n",
    "\n",
    "client = AzureOpenAI(\n",
    "    api_key=os.getenv(\"OPENAI_API_KEY\"),\n",
    "    api_version=os.getenv(\"OPENAI_API_VERSION\"),\n",
    "    azure_endpoint=os.getenv(\"OPENAI_API_BASE\")\n",
    ")\n",
    "\n",
    "system_prompt = \"\"\"You are a software engineer, you can write a SQL string as the answer to the user request based on the given tables:\n",
    "1. table “students“ with the columns [id, name, course_id, score] \n",
    "2. table \"courses\" with the columns [id, name] \n",
    "when you cannot create the SQL query for the user's request based on the given tables, please, only return \"invalid request\" \n",
    "                  \"\"\"\n",
    "\n",
    "response = client.chat.completions.create(\n",
    "    model=deployment,\n",
    "    messages=[\n",
    "        {\"role\": \"system\", \"content\": system_prompt},\n",
    "        # {\"role\": \"user\", \"content\": \"计算所有学生英语课程的平均成绩\"}\n",
    "        {\"role\": \"user\", \"content\": \"列出年龄大于13的学生\"}\n",
    "    ],\n",
    "    max_tokens=500\n",
    ")\n",
    "\n",
    "print(response.choices[0].message.content)"
   ],
   "id": "93385693609e5070",
   "outputs": [
    {
     "name": "stdout",
     "output_type": "stream",
     "text": [
      "invalid request\n"
     ]
    }
   ],
   "execution_count": 9
  },
  {
   "metadata": {},
   "cell_type": "code",
   "outputs": [],
   "execution_count": null,
   "source": "",
   "id": "ad3e7b0348e2f6a2"
  }
 ],
 "metadata": {
  "kernelspec": {
   "display_name": "Python 3",
   "language": "python",
   "name": "python3"
  },
  "language_info": {
   "codemirror_mode": {
    "name": "ipython",
    "version": 2
   },
   "file_extension": ".py",
   "mimetype": "text/x-python",
   "name": "python",
   "nbconvert_exporter": "python",
   "pygments_lexer": "ipython2",
   "version": "2.7.6"
  }
 },
 "nbformat": 4,
 "nbformat_minor": 5
}
