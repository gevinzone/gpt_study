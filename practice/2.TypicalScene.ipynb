{
 "cells": [
  {
   "metadata": {},
   "cell_type": "markdown",
   "source": "# 常见场景",
   "id": "c1349533867020a6"
  },
  {
   "metadata": {},
   "cell_type": "markdown",
   "source": "## 意图识别",
   "id": "a49ba6806c3bc446"
  },
  {
   "metadata": {
    "ExecuteTime": {
     "end_time": "2024-06-05T12:27:20.581722Z",
     "start_time": "2024-06-05T12:27:20.579191Z"
    }
   },
   "cell_type": "code",
   "source": [
    "deployment = \"gpt-4o\"\n",
    "model = \"gpt-4o\""
   ],
   "id": "3850c420867e14c5",
   "outputs": [],
   "execution_count": 1
  },
  {
   "metadata": {
    "ExecuteTime": {
     "end_time": "2024-06-05T12:27:25.659678Z",
     "start_time": "2024-06-05T12:27:20.583656Z"
    }
   },
   "cell_type": "code",
   "source": [
    "\n",
    "import os\n",
    "from openai import AzureOpenAI\n",
    "from openai.types.chat import ChatCompletion\n",
    "\n",
    "client = AzureOpenAI(\n",
    "    api_key=os.getenv(\"OPENAI_API_KEY\"),\n",
    "    api_version=os.getenv(\"OPENAI_API_VERSION\"),\n",
    "    # api_version=\"2023-12-01-preview\", # 这个版本无 404 问题\n",
    "    azure_endpoint=os.getenv(\"OPENAI_API_BASE\")\n",
    ")\n",
    "\n",
    "\n",
    "def chat(message: str) -> ChatCompletion:\n",
    "    return client.chat.completions.create(\n",
    "        model=deployment,\n",
    "        messages=message,\n",
    "        temperature=0.8,\n",
    "        max_tokens=1000\n",
    "    )\n",
    "\n",
    "\n",
    "messages = [\n",
    "    [\n",
    "        {\"role\": \"system\", \"content\": \"Recognize intent from user's input\"},\n",
    "        {\"role\": \"user\", \"content\": \"提醒我明早8点有会议\"},\n",
    "    ],\n",
    "    [\n",
    "        {\"role\": \"system\", \"content\": \"Recognize intent from user's input\"},\n",
    "        {\"role\": \"user\", \"content\": \"订明天早5点北京到上海的飞机\"},\n",
    "    ]\n",
    "]\n",
    "\n",
    "for msg in messages:\n",
    "    res = chat(msg)\n",
    "    print(res.choices[0].message.content, res.usage.total_tokens)\n"
   ],
   "id": "968b607c8c8e52a9",
   "outputs": [
    {
     "name": "stdout",
     "output_type": "stream",
     "text": [
      "好的，我会提醒你明早8点有会议。 37\n",
      "好的，您要预订明天早上5点从北京到上海的飞机。我会帮您查询相关的航班信息并进行预订。 61\n"
     ]
    }
   ],
   "execution_count": 2
  },
  {
   "metadata": {
    "ExecuteTime": {
     "end_time": "2024-06-05T12:27:25.665709Z",
     "start_time": "2024-06-05T12:27:25.662782Z"
    }
   },
   "cell_type": "code",
   "source": "",
   "id": "795d5355306239cb",
   "outputs": [],
   "execution_count": 2
  }
 ],
 "metadata": {
  "kernelspec": {
   "display_name": "Python 3",
   "language": "python",
   "name": "python3"
  },
  "language_info": {
   "codemirror_mode": {
    "name": "ipython",
    "version": 2
   },
   "file_extension": ".py",
   "mimetype": "text/x-python",
   "name": "python",
   "nbconvert_exporter": "python",
   "pygments_lexer": "ipython2",
   "version": "2.7.6"
  }
 },
 "nbformat": 4,
 "nbformat_minor": 5
}
