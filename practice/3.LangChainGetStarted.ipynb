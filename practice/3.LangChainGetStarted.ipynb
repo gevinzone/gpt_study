{
 "cells": [
  {
   "cell_type": "code",
   "id": "initial_id",
   "metadata": {
    "collapsed": true,
    "ExecuteTime": {
     "end_time": "2024-06-06T15:01:23.427351Z",
     "start_time": "2024-06-06T15:01:20.111653Z"
    }
   },
   "source": [
    "! pip install langchain==0.2.2\n",
    "! pip install langchain-community==0.2.3\n",
    "! pip install langchain-openai==0.1.8"
   ],
   "outputs": [
    {
     "name": "stdout",
     "output_type": "stream",
     "text": [
      "Requirement already satisfied: langchain==0.2.2 in /Users/gevin/projects/pycharm/ai/venv/lib/python3.12/site-packages (0.2.2)\r\n",
      "Requirement already satisfied: PyYAML>=5.3 in /Users/gevin/projects/pycharm/ai/venv/lib/python3.12/site-packages (from langchain==0.2.2) (6.0.1)\r\n",
      "Requirement already satisfied: SQLAlchemy<3,>=1.4 in /Users/gevin/projects/pycharm/ai/venv/lib/python3.12/site-packages (from langchain==0.2.2) (2.0.30)\r\n",
      "Requirement already satisfied: aiohttp<4.0.0,>=3.8.3 in /Users/gevin/projects/pycharm/ai/venv/lib/python3.12/site-packages (from langchain==0.2.2) (3.9.5)\r\n",
      "Requirement already satisfied: langchain-core<0.3.0,>=0.2.0 in /Users/gevin/projects/pycharm/ai/venv/lib/python3.12/site-packages (from langchain==0.2.2) (0.2.4)\r\n",
      "Requirement already satisfied: langchain-text-splitters<0.3.0,>=0.2.0 in /Users/gevin/projects/pycharm/ai/venv/lib/python3.12/site-packages (from langchain==0.2.2) (0.2.1)\r\n",
      "Requirement already satisfied: langsmith<0.2.0,>=0.1.17 in /Users/gevin/projects/pycharm/ai/venv/lib/python3.12/site-packages (from langchain==0.2.2) (0.1.73)\r\n",
      "Requirement already satisfied: numpy<2,>=1 in /Users/gevin/projects/pycharm/ai/venv/lib/python3.12/site-packages (from langchain==0.2.2) (1.26.4)\r\n",
      "Requirement already satisfied: pydantic<3,>=1 in /Users/gevin/projects/pycharm/ai/venv/lib/python3.12/site-packages (from langchain==0.2.2) (2.7.3)\r\n",
      "Requirement already satisfied: requests<3,>=2 in /Users/gevin/projects/pycharm/ai/venv/lib/python3.12/site-packages (from langchain==0.2.2) (2.32.3)\r\n",
      "Requirement already satisfied: tenacity<9.0.0,>=8.1.0 in /Users/gevin/projects/pycharm/ai/venv/lib/python3.12/site-packages (from langchain==0.2.2) (8.3.0)\r\n",
      "Requirement already satisfied: aiosignal>=1.1.2 in /Users/gevin/projects/pycharm/ai/venv/lib/python3.12/site-packages (from aiohttp<4.0.0,>=3.8.3->langchain==0.2.2) (1.3.1)\r\n",
      "Requirement already satisfied: attrs>=17.3.0 in /Users/gevin/projects/pycharm/ai/venv/lib/python3.12/site-packages (from aiohttp<4.0.0,>=3.8.3->langchain==0.2.2) (23.2.0)\r\n",
      "Requirement already satisfied: frozenlist>=1.1.1 in /Users/gevin/projects/pycharm/ai/venv/lib/python3.12/site-packages (from aiohttp<4.0.0,>=3.8.3->langchain==0.2.2) (1.4.1)\r\n",
      "Requirement already satisfied: multidict<7.0,>=4.5 in /Users/gevin/projects/pycharm/ai/venv/lib/python3.12/site-packages (from aiohttp<4.0.0,>=3.8.3->langchain==0.2.2) (6.0.5)\r\n",
      "Requirement already satisfied: yarl<2.0,>=1.0 in /Users/gevin/projects/pycharm/ai/venv/lib/python3.12/site-packages (from aiohttp<4.0.0,>=3.8.3->langchain==0.2.2) (1.9.4)\r\n",
      "Requirement already satisfied: jsonpatch<2.0,>=1.33 in /Users/gevin/projects/pycharm/ai/venv/lib/python3.12/site-packages (from langchain-core<0.3.0,>=0.2.0->langchain==0.2.2) (1.33)\r\n",
      "Requirement already satisfied: packaging<24.0,>=23.2 in /Users/gevin/projects/pycharm/ai/venv/lib/python3.12/site-packages (from langchain-core<0.3.0,>=0.2.0->langchain==0.2.2) (23.2)\r\n",
      "Requirement already satisfied: orjson<4.0.0,>=3.9.14 in /Users/gevin/projects/pycharm/ai/venv/lib/python3.12/site-packages (from langsmith<0.2.0,>=0.1.17->langchain==0.2.2) (3.10.3)\r\n",
      "Requirement already satisfied: annotated-types>=0.4.0 in /Users/gevin/projects/pycharm/ai/venv/lib/python3.12/site-packages (from pydantic<3,>=1->langchain==0.2.2) (0.7.0)\r\n",
      "Requirement already satisfied: pydantic-core==2.18.4 in /Users/gevin/projects/pycharm/ai/venv/lib/python3.12/site-packages (from pydantic<3,>=1->langchain==0.2.2) (2.18.4)\r\n",
      "Requirement already satisfied: typing-extensions>=4.6.1 in /Users/gevin/projects/pycharm/ai/venv/lib/python3.12/site-packages (from pydantic<3,>=1->langchain==0.2.2) (4.12.1)\r\n",
      "Requirement already satisfied: charset-normalizer<4,>=2 in /Users/gevin/projects/pycharm/ai/venv/lib/python3.12/site-packages (from requests<3,>=2->langchain==0.2.2) (3.3.2)\r\n",
      "Requirement already satisfied: idna<4,>=2.5 in /Users/gevin/projects/pycharm/ai/venv/lib/python3.12/site-packages (from requests<3,>=2->langchain==0.2.2) (3.7)\r\n",
      "Requirement already satisfied: urllib3<3,>=1.21.1 in /Users/gevin/projects/pycharm/ai/venv/lib/python3.12/site-packages (from requests<3,>=2->langchain==0.2.2) (2.2.1)\r\n",
      "Requirement already satisfied: certifi>=2017.4.17 in /Users/gevin/projects/pycharm/ai/venv/lib/python3.12/site-packages (from requests<3,>=2->langchain==0.2.2) (2024.6.2)\r\n",
      "Requirement already satisfied: jsonpointer>=1.9 in /Users/gevin/projects/pycharm/ai/venv/lib/python3.12/site-packages (from jsonpatch<2.0,>=1.33->langchain-core<0.3.0,>=0.2.0->langchain==0.2.2) (2.4)\r\n",
      "Requirement already satisfied: langchain-community==0.2.3 in /Users/gevin/projects/pycharm/ai/venv/lib/python3.12/site-packages (0.2.3)\r\n",
      "Requirement already satisfied: PyYAML>=5.3 in /Users/gevin/projects/pycharm/ai/venv/lib/python3.12/site-packages (from langchain-community==0.2.3) (6.0.1)\r\n",
      "Requirement already satisfied: SQLAlchemy<3,>=1.4 in /Users/gevin/projects/pycharm/ai/venv/lib/python3.12/site-packages (from langchain-community==0.2.3) (2.0.30)\r\n",
      "Requirement already satisfied: aiohttp<4.0.0,>=3.8.3 in /Users/gevin/projects/pycharm/ai/venv/lib/python3.12/site-packages (from langchain-community==0.2.3) (3.9.5)\r\n",
      "Requirement already satisfied: dataclasses-json<0.7,>=0.5.7 in /Users/gevin/projects/pycharm/ai/venv/lib/python3.12/site-packages (from langchain-community==0.2.3) (0.6.6)\r\n",
      "Requirement already satisfied: langchain<0.3.0,>=0.2.0 in /Users/gevin/projects/pycharm/ai/venv/lib/python3.12/site-packages (from langchain-community==0.2.3) (0.2.2)\r\n",
      "Requirement already satisfied: langchain-core<0.3.0,>=0.2.0 in /Users/gevin/projects/pycharm/ai/venv/lib/python3.12/site-packages (from langchain-community==0.2.3) (0.2.4)\r\n",
      "Requirement already satisfied: langsmith<0.2.0,>=0.1.0 in /Users/gevin/projects/pycharm/ai/venv/lib/python3.12/site-packages (from langchain-community==0.2.3) (0.1.73)\r\n",
      "Requirement already satisfied: numpy<2,>=1 in /Users/gevin/projects/pycharm/ai/venv/lib/python3.12/site-packages (from langchain-community==0.2.3) (1.26.4)\r\n",
      "Requirement already satisfied: requests<3,>=2 in /Users/gevin/projects/pycharm/ai/venv/lib/python3.12/site-packages (from langchain-community==0.2.3) (2.32.3)\r\n",
      "Requirement already satisfied: tenacity<9.0.0,>=8.1.0 in /Users/gevin/projects/pycharm/ai/venv/lib/python3.12/site-packages (from langchain-community==0.2.3) (8.3.0)\r\n",
      "Requirement already satisfied: aiosignal>=1.1.2 in /Users/gevin/projects/pycharm/ai/venv/lib/python3.12/site-packages (from aiohttp<4.0.0,>=3.8.3->langchain-community==0.2.3) (1.3.1)\r\n",
      "Requirement already satisfied: attrs>=17.3.0 in /Users/gevin/projects/pycharm/ai/venv/lib/python3.12/site-packages (from aiohttp<4.0.0,>=3.8.3->langchain-community==0.2.3) (23.2.0)\r\n",
      "Requirement already satisfied: frozenlist>=1.1.1 in /Users/gevin/projects/pycharm/ai/venv/lib/python3.12/site-packages (from aiohttp<4.0.0,>=3.8.3->langchain-community==0.2.3) (1.4.1)\r\n",
      "Requirement already satisfied: multidict<7.0,>=4.5 in /Users/gevin/projects/pycharm/ai/venv/lib/python3.12/site-packages (from aiohttp<4.0.0,>=3.8.3->langchain-community==0.2.3) (6.0.5)\r\n",
      "Requirement already satisfied: yarl<2.0,>=1.0 in /Users/gevin/projects/pycharm/ai/venv/lib/python3.12/site-packages (from aiohttp<4.0.0,>=3.8.3->langchain-community==0.2.3) (1.9.4)\r\n",
      "Requirement already satisfied: marshmallow<4.0.0,>=3.18.0 in /Users/gevin/projects/pycharm/ai/venv/lib/python3.12/site-packages (from dataclasses-json<0.7,>=0.5.7->langchain-community==0.2.3) (3.21.3)\r\n",
      "Requirement already satisfied: typing-inspect<1,>=0.4.0 in /Users/gevin/projects/pycharm/ai/venv/lib/python3.12/site-packages (from dataclasses-json<0.7,>=0.5.7->langchain-community==0.2.3) (0.9.0)\r\n",
      "Requirement already satisfied: langchain-text-splitters<0.3.0,>=0.2.0 in /Users/gevin/projects/pycharm/ai/venv/lib/python3.12/site-packages (from langchain<0.3.0,>=0.2.0->langchain-community==0.2.3) (0.2.1)\r\n",
      "Requirement already satisfied: pydantic<3,>=1 in /Users/gevin/projects/pycharm/ai/venv/lib/python3.12/site-packages (from langchain<0.3.0,>=0.2.0->langchain-community==0.2.3) (2.7.3)\r\n",
      "Requirement already satisfied: jsonpatch<2.0,>=1.33 in /Users/gevin/projects/pycharm/ai/venv/lib/python3.12/site-packages (from langchain-core<0.3.0,>=0.2.0->langchain-community==0.2.3) (1.33)\r\n",
      "Requirement already satisfied: packaging<24.0,>=23.2 in /Users/gevin/projects/pycharm/ai/venv/lib/python3.12/site-packages (from langchain-core<0.3.0,>=0.2.0->langchain-community==0.2.3) (23.2)\r\n",
      "Requirement already satisfied: orjson<4.0.0,>=3.9.14 in /Users/gevin/projects/pycharm/ai/venv/lib/python3.12/site-packages (from langsmith<0.2.0,>=0.1.0->langchain-community==0.2.3) (3.10.3)\r\n",
      "Requirement already satisfied: charset-normalizer<4,>=2 in /Users/gevin/projects/pycharm/ai/venv/lib/python3.12/site-packages (from requests<3,>=2->langchain-community==0.2.3) (3.3.2)\r\n",
      "Requirement already satisfied: idna<4,>=2.5 in /Users/gevin/projects/pycharm/ai/venv/lib/python3.12/site-packages (from requests<3,>=2->langchain-community==0.2.3) (3.7)\r\n",
      "Requirement already satisfied: urllib3<3,>=1.21.1 in /Users/gevin/projects/pycharm/ai/venv/lib/python3.12/site-packages (from requests<3,>=2->langchain-community==0.2.3) (2.2.1)\r\n",
      "Requirement already satisfied: certifi>=2017.4.17 in /Users/gevin/projects/pycharm/ai/venv/lib/python3.12/site-packages (from requests<3,>=2->langchain-community==0.2.3) (2024.6.2)\r\n",
      "Requirement already satisfied: typing-extensions>=4.6.0 in /Users/gevin/projects/pycharm/ai/venv/lib/python3.12/site-packages (from SQLAlchemy<3,>=1.4->langchain-community==0.2.3) (4.12.1)\r\n",
      "Requirement already satisfied: jsonpointer>=1.9 in /Users/gevin/projects/pycharm/ai/venv/lib/python3.12/site-packages (from jsonpatch<2.0,>=1.33->langchain-core<0.3.0,>=0.2.0->langchain-community==0.2.3) (2.4)\r\n",
      "Requirement already satisfied: annotated-types>=0.4.0 in /Users/gevin/projects/pycharm/ai/venv/lib/python3.12/site-packages (from pydantic<3,>=1->langchain<0.3.0,>=0.2.0->langchain-community==0.2.3) (0.7.0)\r\n",
      "Requirement already satisfied: pydantic-core==2.18.4 in /Users/gevin/projects/pycharm/ai/venv/lib/python3.12/site-packages (from pydantic<3,>=1->langchain<0.3.0,>=0.2.0->langchain-community==0.2.3) (2.18.4)\r\n",
      "Requirement already satisfied: mypy-extensions>=0.3.0 in /Users/gevin/projects/pycharm/ai/venv/lib/python3.12/site-packages (from typing-inspect<1,>=0.4.0->dataclasses-json<0.7,>=0.5.7->langchain-community==0.2.3) (1.0.0)\r\n",
      "Requirement already satisfied: langchain-openai==0.1.8 in /Users/gevin/projects/pycharm/ai/venv/lib/python3.12/site-packages (0.1.8)\r\n",
      "Requirement already satisfied: langchain-core<0.3,>=0.2.2 in /Users/gevin/projects/pycharm/ai/venv/lib/python3.12/site-packages (from langchain-openai==0.1.8) (0.2.4)\r\n",
      "Requirement already satisfied: openai<2.0.0,>=1.26.0 in /Users/gevin/projects/pycharm/ai/venv/lib/python3.12/site-packages (from langchain-openai==0.1.8) (1.31.0)\r\n",
      "Requirement already satisfied: tiktoken<1,>=0.7 in /Users/gevin/projects/pycharm/ai/venv/lib/python3.12/site-packages (from langchain-openai==0.1.8) (0.7.0)\r\n",
      "Requirement already satisfied: PyYAML>=5.3 in /Users/gevin/projects/pycharm/ai/venv/lib/python3.12/site-packages (from langchain-core<0.3,>=0.2.2->langchain-openai==0.1.8) (6.0.1)\r\n",
      "Requirement already satisfied: jsonpatch<2.0,>=1.33 in /Users/gevin/projects/pycharm/ai/venv/lib/python3.12/site-packages (from langchain-core<0.3,>=0.2.2->langchain-openai==0.1.8) (1.33)\r\n",
      "Requirement already satisfied: langsmith<0.2.0,>=0.1.66 in /Users/gevin/projects/pycharm/ai/venv/lib/python3.12/site-packages (from langchain-core<0.3,>=0.2.2->langchain-openai==0.1.8) (0.1.73)\r\n",
      "Requirement already satisfied: packaging<24.0,>=23.2 in /Users/gevin/projects/pycharm/ai/venv/lib/python3.12/site-packages (from langchain-core<0.3,>=0.2.2->langchain-openai==0.1.8) (23.2)\r\n",
      "Requirement already satisfied: pydantic<3,>=1 in /Users/gevin/projects/pycharm/ai/venv/lib/python3.12/site-packages (from langchain-core<0.3,>=0.2.2->langchain-openai==0.1.8) (2.7.3)\r\n",
      "Requirement already satisfied: tenacity<9.0.0,>=8.1.0 in /Users/gevin/projects/pycharm/ai/venv/lib/python3.12/site-packages (from langchain-core<0.3,>=0.2.2->langchain-openai==0.1.8) (8.3.0)\r\n",
      "Requirement already satisfied: anyio<5,>=3.5.0 in /Users/gevin/projects/pycharm/ai/venv/lib/python3.12/site-packages (from openai<2.0.0,>=1.26.0->langchain-openai==0.1.8) (4.4.0)\r\n",
      "Requirement already satisfied: distro<2,>=1.7.0 in /Users/gevin/projects/pycharm/ai/venv/lib/python3.12/site-packages (from openai<2.0.0,>=1.26.0->langchain-openai==0.1.8) (1.9.0)\r\n",
      "Requirement already satisfied: httpx<1,>=0.23.0 in /Users/gevin/projects/pycharm/ai/venv/lib/python3.12/site-packages (from openai<2.0.0,>=1.26.0->langchain-openai==0.1.8) (0.27.0)\r\n",
      "Requirement already satisfied: sniffio in /Users/gevin/projects/pycharm/ai/venv/lib/python3.12/site-packages (from openai<2.0.0,>=1.26.0->langchain-openai==0.1.8) (1.3.1)\r\n",
      "Requirement already satisfied: tqdm>4 in /Users/gevin/projects/pycharm/ai/venv/lib/python3.12/site-packages (from openai<2.0.0,>=1.26.0->langchain-openai==0.1.8) (4.66.4)\r\n",
      "Requirement already satisfied: typing-extensions<5,>=4.7 in /Users/gevin/projects/pycharm/ai/venv/lib/python3.12/site-packages (from openai<2.0.0,>=1.26.0->langchain-openai==0.1.8) (4.12.1)\r\n",
      "Requirement already satisfied: regex>=2022.1.18 in /Users/gevin/projects/pycharm/ai/venv/lib/python3.12/site-packages (from tiktoken<1,>=0.7->langchain-openai==0.1.8) (2024.5.15)\r\n",
      "Requirement already satisfied: requests>=2.26.0 in /Users/gevin/projects/pycharm/ai/venv/lib/python3.12/site-packages (from tiktoken<1,>=0.7->langchain-openai==0.1.8) (2.32.3)\r\n",
      "Requirement already satisfied: idna>=2.8 in /Users/gevin/projects/pycharm/ai/venv/lib/python3.12/site-packages (from anyio<5,>=3.5.0->openai<2.0.0,>=1.26.0->langchain-openai==0.1.8) (3.7)\r\n",
      "Requirement already satisfied: certifi in /Users/gevin/projects/pycharm/ai/venv/lib/python3.12/site-packages (from httpx<1,>=0.23.0->openai<2.0.0,>=1.26.0->langchain-openai==0.1.8) (2024.6.2)\r\n",
      "Requirement already satisfied: httpcore==1.* in /Users/gevin/projects/pycharm/ai/venv/lib/python3.12/site-packages (from httpx<1,>=0.23.0->openai<2.0.0,>=1.26.0->langchain-openai==0.1.8) (1.0.5)\r\n",
      "Requirement already satisfied: h11<0.15,>=0.13 in /Users/gevin/projects/pycharm/ai/venv/lib/python3.12/site-packages (from httpcore==1.*->httpx<1,>=0.23.0->openai<2.0.0,>=1.26.0->langchain-openai==0.1.8) (0.14.0)\r\n",
      "Requirement already satisfied: jsonpointer>=1.9 in /Users/gevin/projects/pycharm/ai/venv/lib/python3.12/site-packages (from jsonpatch<2.0,>=1.33->langchain-core<0.3,>=0.2.2->langchain-openai==0.1.8) (2.4)\r\n",
      "Requirement already satisfied: orjson<4.0.0,>=3.9.14 in /Users/gevin/projects/pycharm/ai/venv/lib/python3.12/site-packages (from langsmith<0.2.0,>=0.1.66->langchain-core<0.3,>=0.2.2->langchain-openai==0.1.8) (3.10.3)\r\n",
      "Requirement already satisfied: annotated-types>=0.4.0 in /Users/gevin/projects/pycharm/ai/venv/lib/python3.12/site-packages (from pydantic<3,>=1->langchain-core<0.3,>=0.2.2->langchain-openai==0.1.8) (0.7.0)\r\n",
      "Requirement already satisfied: pydantic-core==2.18.4 in /Users/gevin/projects/pycharm/ai/venv/lib/python3.12/site-packages (from pydantic<3,>=1->langchain-core<0.3,>=0.2.2->langchain-openai==0.1.8) (2.18.4)\r\n",
      "Requirement already satisfied: charset-normalizer<4,>=2 in /Users/gevin/projects/pycharm/ai/venv/lib/python3.12/site-packages (from requests>=2.26.0->tiktoken<1,>=0.7->langchain-openai==0.1.8) (3.3.2)\r\n",
      "Requirement already satisfied: urllib3<3,>=1.21.1 in /Users/gevin/projects/pycharm/ai/venv/lib/python3.12/site-packages (from requests>=2.26.0->tiktoken<1,>=0.7->langchain-openai==0.1.8) (2.2.1)\r\n"
     ]
    }
   ],
   "execution_count": 1
  },
  {
   "metadata": {
    "ExecuteTime": {
     "end_time": "2024-06-06T15:01:23.431278Z",
     "start_time": "2024-06-06T15:01:23.429130Z"
    }
   },
   "cell_type": "code",
   "source": [
    "deployment = \"gpt-4o\"\n",
    "model = \"gpt-4o\""
   ],
   "id": "47a0dc5a6799084b",
   "outputs": [],
   "execution_count": 2
  },
  {
   "metadata": {},
   "cell_type": "markdown",
   "source": [
    "# 说明\n",
    "\n",
    "使用 langchain 之后，这两个环境变量要重命名一下，否则会报错。\n",
    "\n",
    "```bash\n",
    "OPENAI_API_BASE -> AZURE_OPENAI_ENDPOINT\n",
    "OPENAI_API_KEY -> AZURE_OPENAI_API_KEY\n",
    "```\n",
    "\n",
    "注意，是重命名，不能并存，否则会报错。\n",
    "\n",
    "重命名后，不影响 OpenAI API 的使用，即重命名前后，都可以正常使用。"
   ],
   "id": "ba490cdaf9d9e456"
  },
  {
   "metadata": {},
   "cell_type": "markdown",
   "source": "# 提示词模板",
   "id": "2e0f5ebc592675d5"
  },
  {
   "metadata": {
    "ExecuteTime": {
     "end_time": "2024-06-06T15:01:25.512620Z",
     "start_time": "2024-06-06T15:01:23.432051Z"
    }
   },
   "cell_type": "code",
   "source": [
    "import os\n",
    "from langchain import PromptTemplate, LLMChain\n",
    "\n",
    "# from langchain_openai import AzureOpenAI\n",
    "from langchain_openai import AzureChatOpenAI\n",
    "\n",
    "# from langchain.chat_models import ChatOpenAI # 直接访问 OpenAI 的 API \n",
    "\n",
    "prompt_template = \"\"\"Make a good name for a product, the product is described as follow: {product}. Please only return the best one. \"\"\"\n",
    "\n",
    "#llm = ChatOpenAI(model_name=\"gpt-4\", temperature=0) #直接访问OpenAI的GPT服务\n",
    "\n",
    "\n",
    "# llm = AzureChatOpenAI(azure_deployment=deployment) # OK\n",
    "llm = AzureChatOpenAI(model=deployment,\n",
    "                      temperature=0, max_tokens=200)\n",
    "\n",
    "llm_chain = LLMChain(prompt=PromptTemplate.from_template(prompt_template), llm=llm)\n",
    "llm_chain.invoke(\"colorful socks\")\n",
    "# llm_chain.run(\"colorful socks\")"
   ],
   "id": "2f18720d6d6faa85",
   "outputs": [
    {
     "name": "stderr",
     "output_type": "stream",
     "text": [
      "/Users/gevin/projects/pycharm/ai/venv/lib/python3.12/site-packages/langchain_core/_api/deprecation.py:119: LangChainDeprecationWarning: The class `LLMChain` was deprecated in LangChain 0.1.17 and will be removed in 0.3.0. Use RunnableSequence, e.g., `prompt | llm` instead.\n",
      "  warn_deprecated(\n"
     ]
    },
    {
     "data": {
      "text/plain": [
       "{'product': 'colorful socks', 'text': 'VividSoles'}"
      ]
     },
     "execution_count": 3,
     "metadata": {},
     "output_type": "execute_result"
    }
   ],
   "execution_count": 3
  },
  {
   "metadata": {
    "ExecuteTime": {
     "end_time": "2024-06-06T15:01:27.568023Z",
     "start_time": "2024-06-06T15:01:25.514309Z"
    }
   },
   "cell_type": "code",
   "source": [
    "products = [{\"product\": \"'cloudnative devops platform'\"},\n",
    "            {\"product\": \"'Noise cancellation headphone'\"},\n",
    "            {\"product\": \"colorful socks\"}]\n",
    "llm_chain.apply(products)"
   ],
   "id": "3a9dfcff38dfb011",
   "outputs": [
    {
     "data": {
      "text/plain": [
       "[{'text': 'CloudCraft DevOps Platform'},\n",
       " {'text': 'SilentWave Pro'},\n",
       " {'text': 'VividSoles'}]"
      ]
     },
     "execution_count": 4,
     "metadata": {},
     "output_type": "execute_result"
    }
   ],
   "execution_count": 4
  },
  {
   "metadata": {},
   "cell_type": "markdown",
   "source": [
    "# API调用链\n",
    "## HTTP request chain"
   ],
   "id": "a4dfe1cf218d4139"
  },
  {
   "metadata": {
    "ExecuteTime": {
     "end_time": "2024-06-06T15:27:03.446570Z",
     "start_time": "2024-06-06T15:27:03.428651Z"
    }
   },
   "cell_type": "code",
   "source": [
    "from langchain import PromptTemplate, LLMChain\n",
    "from langchain.chains.llm_requests import LLMRequestsChain\n",
    "from langchain_openai import AzureChatOpenAI\n",
    "\n",
    "llm = AzureChatOpenAI(model=deployment, temperature=0, max_tokens=200)\n",
    "\n",
    "\n",
    "def query_baidu(question: str):\n",
    "    # template = \"\"\"\n",
    "    # You are a search engine.\n",
    "    # You are given a question, please search the internet and return the answer.\n",
    "    # Question: {question}\n",
    "    # Answer:\n",
    "    # \"\"\"\n",
    "    template = \"\"\"\n",
    "      Between >>> and <<< are the raw search result text from web.\n",
    "      Extract the answer to the question '{query}' or say \"not found\" if the information is not contained.\n",
    "      Use the format\n",
    "      Extracted:<answer or \"not found\">\n",
    "      >>> {requests_result} <<<\n",
    "      Extracted:\n",
    "    \"\"\"\n",
    "    prompt = PromptTemplate(\n",
    "        input_variables=[\"query\", \"requests_result\"],\n",
    "        template=template,\n",
    "    )\n",
    "    \n",
    "    inputs = {\n",
    "          \"query\": question,\n",
    "          \"url\": \"http://www.baidu.com/s?wd=\" + question.replace(\" \", \"+\")\n",
    "      }\n",
    "    \n",
    "    chain = LLMRequestsChain(llm_chain=LLMChain(llm=llm, prompt=prompt),\n",
    "                              output_key=\"query_info\", verbose=True)\n",
    "    res = chain.invoke(inputs)\n",
    "    return res\n",
    "    \n",
    "    "
   ],
   "id": "5e74bb1992d4d5d0",
   "outputs": [],
   "execution_count": 7
  },
  {
   "metadata": {
    "ExecuteTime": {
     "end_time": "2024-06-06T15:27:08.984728Z",
     "start_time": "2024-06-06T15:27:06.128806Z"
    }
   },
   "cell_type": "code",
   "source": [
    "result = query_baidu(\"今天杭州天气\")\n",
    "print(\"result: \", result)"
   ],
   "id": "4b3151d888d7bd84",
   "outputs": [
    {
     "name": "stdout",
     "output_type": "stream",
     "text": [
      "\n",
      "\n",
      "\u001B[1m> Entering new LLMRequestsChain chain...\u001B[0m\n",
      "\n",
      "\u001B[1m> Finished chain.\u001B[0m\n",
      "result:  {'query': '今天杭州天气', 'url': 'http://www.baidu.com/s?wd=今天杭州天气', 'query_info': 'Extracted: 20°阴，东北风1级，17~23°C'}\n"
     ]
    }
   ],
   "execution_count": 8
  },
  {
   "metadata": {},
   "cell_type": "code",
   "outputs": [],
   "execution_count": null,
   "source": "",
   "id": "2589beed6f15d3f2"
  }
 ],
 "metadata": {
  "kernelspec": {
   "display_name": "Python 3",
   "language": "python",
   "name": "python3"
  },
  "language_info": {
   "codemirror_mode": {
    "name": "ipython",
    "version": 2
   },
   "file_extension": ".py",
   "mimetype": "text/x-python",
   "name": "python",
   "nbconvert_exporter": "python",
   "pygments_lexer": "ipython2",
   "version": "2.7.6"
  }
 },
 "nbformat": 4,
 "nbformat_minor": 5
}
