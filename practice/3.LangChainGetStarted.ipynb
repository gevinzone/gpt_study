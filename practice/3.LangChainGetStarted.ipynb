{
 "cells": [
  {
   "cell_type": "code",
   "id": "initial_id",
   "metadata": {
    "collapsed": true,
    "ExecuteTime": {
     "end_time": "2024-06-06T06:30:58.461612Z",
     "start_time": "2024-06-06T06:30:55.123572Z"
    }
   },
   "source": [
    "! pip install langchain==0.2.2\n",
    "! pip install langchain-community==0.2.3\n",
    "! pip install langchain-openai==0.1.8"
   ],
   "outputs": [
    {
     "name": "stdout",
     "output_type": "stream",
     "text": [
      "Requirement already satisfied: langchain==0.2.2 in /Users/gevin/projects/pycharm/ai/venv/lib/python3.12/site-packages (0.2.2)\r\n",
      "Requirement already satisfied: PyYAML>=5.3 in /Users/gevin/projects/pycharm/ai/venv/lib/python3.12/site-packages (from langchain==0.2.2) (6.0.1)\r\n",
      "Requirement already satisfied: SQLAlchemy<3,>=1.4 in /Users/gevin/projects/pycharm/ai/venv/lib/python3.12/site-packages (from langchain==0.2.2) (2.0.30)\r\n",
      "Requirement already satisfied: aiohttp<4.0.0,>=3.8.3 in /Users/gevin/projects/pycharm/ai/venv/lib/python3.12/site-packages (from langchain==0.2.2) (3.9.5)\r\n",
      "Requirement already satisfied: langchain-core<0.3.0,>=0.2.0 in /Users/gevin/projects/pycharm/ai/venv/lib/python3.12/site-packages (from langchain==0.2.2) (0.2.4)\r\n",
      "Requirement already satisfied: langchain-text-splitters<0.3.0,>=0.2.0 in /Users/gevin/projects/pycharm/ai/venv/lib/python3.12/site-packages (from langchain==0.2.2) (0.2.1)\r\n",
      "Requirement already satisfied: langsmith<0.2.0,>=0.1.17 in /Users/gevin/projects/pycharm/ai/venv/lib/python3.12/site-packages (from langchain==0.2.2) (0.1.73)\r\n",
      "Requirement already satisfied: numpy<2,>=1 in /Users/gevin/projects/pycharm/ai/venv/lib/python3.12/site-packages (from langchain==0.2.2) (1.26.4)\r\n",
      "Requirement already satisfied: pydantic<3,>=1 in /Users/gevin/projects/pycharm/ai/venv/lib/python3.12/site-packages (from langchain==0.2.2) (2.7.3)\r\n",
      "Requirement already satisfied: requests<3,>=2 in /Users/gevin/projects/pycharm/ai/venv/lib/python3.12/site-packages (from langchain==0.2.2) (2.32.3)\r\n",
      "Requirement already satisfied: tenacity<9.0.0,>=8.1.0 in /Users/gevin/projects/pycharm/ai/venv/lib/python3.12/site-packages (from langchain==0.2.2) (8.3.0)\r\n",
      "Requirement already satisfied: aiosignal>=1.1.2 in /Users/gevin/projects/pycharm/ai/venv/lib/python3.12/site-packages (from aiohttp<4.0.0,>=3.8.3->langchain==0.2.2) (1.3.1)\r\n",
      "Requirement already satisfied: attrs>=17.3.0 in /Users/gevin/projects/pycharm/ai/venv/lib/python3.12/site-packages (from aiohttp<4.0.0,>=3.8.3->langchain==0.2.2) (23.2.0)\r\n",
      "Requirement already satisfied: frozenlist>=1.1.1 in /Users/gevin/projects/pycharm/ai/venv/lib/python3.12/site-packages (from aiohttp<4.0.0,>=3.8.3->langchain==0.2.2) (1.4.1)\r\n",
      "Requirement already satisfied: multidict<7.0,>=4.5 in /Users/gevin/projects/pycharm/ai/venv/lib/python3.12/site-packages (from aiohttp<4.0.0,>=3.8.3->langchain==0.2.2) (6.0.5)\r\n",
      "Requirement already satisfied: yarl<2.0,>=1.0 in /Users/gevin/projects/pycharm/ai/venv/lib/python3.12/site-packages (from aiohttp<4.0.0,>=3.8.3->langchain==0.2.2) (1.9.4)\r\n",
      "Requirement already satisfied: jsonpatch<2.0,>=1.33 in /Users/gevin/projects/pycharm/ai/venv/lib/python3.12/site-packages (from langchain-core<0.3.0,>=0.2.0->langchain==0.2.2) (1.33)\r\n",
      "Requirement already satisfied: packaging<24.0,>=23.2 in /Users/gevin/projects/pycharm/ai/venv/lib/python3.12/site-packages (from langchain-core<0.3.0,>=0.2.0->langchain==0.2.2) (23.2)\r\n",
      "Requirement already satisfied: orjson<4.0.0,>=3.9.14 in /Users/gevin/projects/pycharm/ai/venv/lib/python3.12/site-packages (from langsmith<0.2.0,>=0.1.17->langchain==0.2.2) (3.10.3)\r\n",
      "Requirement already satisfied: annotated-types>=0.4.0 in /Users/gevin/projects/pycharm/ai/venv/lib/python3.12/site-packages (from pydantic<3,>=1->langchain==0.2.2) (0.7.0)\r\n",
      "Requirement already satisfied: pydantic-core==2.18.4 in /Users/gevin/projects/pycharm/ai/venv/lib/python3.12/site-packages (from pydantic<3,>=1->langchain==0.2.2) (2.18.4)\r\n",
      "Requirement already satisfied: typing-extensions>=4.6.1 in /Users/gevin/projects/pycharm/ai/venv/lib/python3.12/site-packages (from pydantic<3,>=1->langchain==0.2.2) (4.12.1)\r\n",
      "Requirement already satisfied: charset-normalizer<4,>=2 in /Users/gevin/projects/pycharm/ai/venv/lib/python3.12/site-packages (from requests<3,>=2->langchain==0.2.2) (3.3.2)\r\n",
      "Requirement already satisfied: idna<4,>=2.5 in /Users/gevin/projects/pycharm/ai/venv/lib/python3.12/site-packages (from requests<3,>=2->langchain==0.2.2) (3.7)\r\n",
      "Requirement already satisfied: urllib3<3,>=1.21.1 in /Users/gevin/projects/pycharm/ai/venv/lib/python3.12/site-packages (from requests<3,>=2->langchain==0.2.2) (2.2.1)\r\n",
      "Requirement already satisfied: certifi>=2017.4.17 in /Users/gevin/projects/pycharm/ai/venv/lib/python3.12/site-packages (from requests<3,>=2->langchain==0.2.2) (2024.6.2)\r\n",
      "Requirement already satisfied: jsonpointer>=1.9 in /Users/gevin/projects/pycharm/ai/venv/lib/python3.12/site-packages (from jsonpatch<2.0,>=1.33->langchain-core<0.3.0,>=0.2.0->langchain==0.2.2) (2.4)\r\n",
      "Requirement already satisfied: langchain-community==0.2.3 in /Users/gevin/projects/pycharm/ai/venv/lib/python3.12/site-packages (0.2.3)\r\n",
      "Requirement already satisfied: PyYAML>=5.3 in /Users/gevin/projects/pycharm/ai/venv/lib/python3.12/site-packages (from langchain-community==0.2.3) (6.0.1)\r\n",
      "Requirement already satisfied: SQLAlchemy<3,>=1.4 in /Users/gevin/projects/pycharm/ai/venv/lib/python3.12/site-packages (from langchain-community==0.2.3) (2.0.30)\r\n",
      "Requirement already satisfied: aiohttp<4.0.0,>=3.8.3 in /Users/gevin/projects/pycharm/ai/venv/lib/python3.12/site-packages (from langchain-community==0.2.3) (3.9.5)\r\n",
      "Requirement already satisfied: dataclasses-json<0.7,>=0.5.7 in /Users/gevin/projects/pycharm/ai/venv/lib/python3.12/site-packages (from langchain-community==0.2.3) (0.6.6)\r\n",
      "Requirement already satisfied: langchain<0.3.0,>=0.2.0 in /Users/gevin/projects/pycharm/ai/venv/lib/python3.12/site-packages (from langchain-community==0.2.3) (0.2.2)\r\n",
      "Requirement already satisfied: langchain-core<0.3.0,>=0.2.0 in /Users/gevin/projects/pycharm/ai/venv/lib/python3.12/site-packages (from langchain-community==0.2.3) (0.2.4)\r\n",
      "Requirement already satisfied: langsmith<0.2.0,>=0.1.0 in /Users/gevin/projects/pycharm/ai/venv/lib/python3.12/site-packages (from langchain-community==0.2.3) (0.1.73)\r\n",
      "Requirement already satisfied: numpy<2,>=1 in /Users/gevin/projects/pycharm/ai/venv/lib/python3.12/site-packages (from langchain-community==0.2.3) (1.26.4)\r\n",
      "Requirement already satisfied: requests<3,>=2 in /Users/gevin/projects/pycharm/ai/venv/lib/python3.12/site-packages (from langchain-community==0.2.3) (2.32.3)\r\n",
      "Requirement already satisfied: tenacity<9.0.0,>=8.1.0 in /Users/gevin/projects/pycharm/ai/venv/lib/python3.12/site-packages (from langchain-community==0.2.3) (8.3.0)\r\n",
      "Requirement already satisfied: aiosignal>=1.1.2 in /Users/gevin/projects/pycharm/ai/venv/lib/python3.12/site-packages (from aiohttp<4.0.0,>=3.8.3->langchain-community==0.2.3) (1.3.1)\r\n",
      "Requirement already satisfied: attrs>=17.3.0 in /Users/gevin/projects/pycharm/ai/venv/lib/python3.12/site-packages (from aiohttp<4.0.0,>=3.8.3->langchain-community==0.2.3) (23.2.0)\r\n",
      "Requirement already satisfied: frozenlist>=1.1.1 in /Users/gevin/projects/pycharm/ai/venv/lib/python3.12/site-packages (from aiohttp<4.0.0,>=3.8.3->langchain-community==0.2.3) (1.4.1)\r\n",
      "Requirement already satisfied: multidict<7.0,>=4.5 in /Users/gevin/projects/pycharm/ai/venv/lib/python3.12/site-packages (from aiohttp<4.0.0,>=3.8.3->langchain-community==0.2.3) (6.0.5)\r\n",
      "Requirement already satisfied: yarl<2.0,>=1.0 in /Users/gevin/projects/pycharm/ai/venv/lib/python3.12/site-packages (from aiohttp<4.0.0,>=3.8.3->langchain-community==0.2.3) (1.9.4)\r\n",
      "Requirement already satisfied: marshmallow<4.0.0,>=3.18.0 in /Users/gevin/projects/pycharm/ai/venv/lib/python3.12/site-packages (from dataclasses-json<0.7,>=0.5.7->langchain-community==0.2.3) (3.21.3)\r\n",
      "Requirement already satisfied: typing-inspect<1,>=0.4.0 in /Users/gevin/projects/pycharm/ai/venv/lib/python3.12/site-packages (from dataclasses-json<0.7,>=0.5.7->langchain-community==0.2.3) (0.9.0)\r\n",
      "Requirement already satisfied: langchain-text-splitters<0.3.0,>=0.2.0 in /Users/gevin/projects/pycharm/ai/venv/lib/python3.12/site-packages (from langchain<0.3.0,>=0.2.0->langchain-community==0.2.3) (0.2.1)\r\n",
      "Requirement already satisfied: pydantic<3,>=1 in /Users/gevin/projects/pycharm/ai/venv/lib/python3.12/site-packages (from langchain<0.3.0,>=0.2.0->langchain-community==0.2.3) (2.7.3)\r\n",
      "Requirement already satisfied: jsonpatch<2.0,>=1.33 in /Users/gevin/projects/pycharm/ai/venv/lib/python3.12/site-packages (from langchain-core<0.3.0,>=0.2.0->langchain-community==0.2.3) (1.33)\r\n",
      "Requirement already satisfied: packaging<24.0,>=23.2 in /Users/gevin/projects/pycharm/ai/venv/lib/python3.12/site-packages (from langchain-core<0.3.0,>=0.2.0->langchain-community==0.2.3) (23.2)\r\n",
      "Requirement already satisfied: orjson<4.0.0,>=3.9.14 in /Users/gevin/projects/pycharm/ai/venv/lib/python3.12/site-packages (from langsmith<0.2.0,>=0.1.0->langchain-community==0.2.3) (3.10.3)\r\n",
      "Requirement already satisfied: charset-normalizer<4,>=2 in /Users/gevin/projects/pycharm/ai/venv/lib/python3.12/site-packages (from requests<3,>=2->langchain-community==0.2.3) (3.3.2)\r\n",
      "Requirement already satisfied: idna<4,>=2.5 in /Users/gevin/projects/pycharm/ai/venv/lib/python3.12/site-packages (from requests<3,>=2->langchain-community==0.2.3) (3.7)\r\n",
      "Requirement already satisfied: urllib3<3,>=1.21.1 in /Users/gevin/projects/pycharm/ai/venv/lib/python3.12/site-packages (from requests<3,>=2->langchain-community==0.2.3) (2.2.1)\r\n",
      "Requirement already satisfied: certifi>=2017.4.17 in /Users/gevin/projects/pycharm/ai/venv/lib/python3.12/site-packages (from requests<3,>=2->langchain-community==0.2.3) (2024.6.2)\r\n",
      "Requirement already satisfied: typing-extensions>=4.6.0 in /Users/gevin/projects/pycharm/ai/venv/lib/python3.12/site-packages (from SQLAlchemy<3,>=1.4->langchain-community==0.2.3) (4.12.1)\r\n",
      "Requirement already satisfied: jsonpointer>=1.9 in /Users/gevin/projects/pycharm/ai/venv/lib/python3.12/site-packages (from jsonpatch<2.0,>=1.33->langchain-core<0.3.0,>=0.2.0->langchain-community==0.2.3) (2.4)\r\n",
      "Requirement already satisfied: annotated-types>=0.4.0 in /Users/gevin/projects/pycharm/ai/venv/lib/python3.12/site-packages (from pydantic<3,>=1->langchain<0.3.0,>=0.2.0->langchain-community==0.2.3) (0.7.0)\r\n",
      "Requirement already satisfied: pydantic-core==2.18.4 in /Users/gevin/projects/pycharm/ai/venv/lib/python3.12/site-packages (from pydantic<3,>=1->langchain<0.3.0,>=0.2.0->langchain-community==0.2.3) (2.18.4)\r\n",
      "Requirement already satisfied: mypy-extensions>=0.3.0 in /Users/gevin/projects/pycharm/ai/venv/lib/python3.12/site-packages (from typing-inspect<1,>=0.4.0->dataclasses-json<0.7,>=0.5.7->langchain-community==0.2.3) (1.0.0)\r\n",
      "Requirement already satisfied: langchain-openai==0.1.8 in /Users/gevin/projects/pycharm/ai/venv/lib/python3.12/site-packages (0.1.8)\r\n",
      "Requirement already satisfied: langchain-core<0.3,>=0.2.2 in /Users/gevin/projects/pycharm/ai/venv/lib/python3.12/site-packages (from langchain-openai==0.1.8) (0.2.4)\r\n",
      "Requirement already satisfied: openai<2.0.0,>=1.26.0 in /Users/gevin/projects/pycharm/ai/venv/lib/python3.12/site-packages (from langchain-openai==0.1.8) (1.31.0)\r\n",
      "Requirement already satisfied: tiktoken<1,>=0.7 in /Users/gevin/projects/pycharm/ai/venv/lib/python3.12/site-packages (from langchain-openai==0.1.8) (0.7.0)\r\n",
      "Requirement already satisfied: PyYAML>=5.3 in /Users/gevin/projects/pycharm/ai/venv/lib/python3.12/site-packages (from langchain-core<0.3,>=0.2.2->langchain-openai==0.1.8) (6.0.1)\r\n",
      "Requirement already satisfied: jsonpatch<2.0,>=1.33 in /Users/gevin/projects/pycharm/ai/venv/lib/python3.12/site-packages (from langchain-core<0.3,>=0.2.2->langchain-openai==0.1.8) (1.33)\r\n",
      "Requirement already satisfied: langsmith<0.2.0,>=0.1.66 in /Users/gevin/projects/pycharm/ai/venv/lib/python3.12/site-packages (from langchain-core<0.3,>=0.2.2->langchain-openai==0.1.8) (0.1.73)\r\n",
      "Requirement already satisfied: packaging<24.0,>=23.2 in /Users/gevin/projects/pycharm/ai/venv/lib/python3.12/site-packages (from langchain-core<0.3,>=0.2.2->langchain-openai==0.1.8) (23.2)\r\n",
      "Requirement already satisfied: pydantic<3,>=1 in /Users/gevin/projects/pycharm/ai/venv/lib/python3.12/site-packages (from langchain-core<0.3,>=0.2.2->langchain-openai==0.1.8) (2.7.3)\r\n",
      "Requirement already satisfied: tenacity<9.0.0,>=8.1.0 in /Users/gevin/projects/pycharm/ai/venv/lib/python3.12/site-packages (from langchain-core<0.3,>=0.2.2->langchain-openai==0.1.8) (8.3.0)\r\n",
      "Requirement already satisfied: anyio<5,>=3.5.0 in /Users/gevin/projects/pycharm/ai/venv/lib/python3.12/site-packages (from openai<2.0.0,>=1.26.0->langchain-openai==0.1.8) (4.4.0)\r\n",
      "Requirement already satisfied: distro<2,>=1.7.0 in /Users/gevin/projects/pycharm/ai/venv/lib/python3.12/site-packages (from openai<2.0.0,>=1.26.0->langchain-openai==0.1.8) (1.9.0)\r\n",
      "Requirement already satisfied: httpx<1,>=0.23.0 in /Users/gevin/projects/pycharm/ai/venv/lib/python3.12/site-packages (from openai<2.0.0,>=1.26.0->langchain-openai==0.1.8) (0.27.0)\r\n",
      "Requirement already satisfied: sniffio in /Users/gevin/projects/pycharm/ai/venv/lib/python3.12/site-packages (from openai<2.0.0,>=1.26.0->langchain-openai==0.1.8) (1.3.1)\r\n",
      "Requirement already satisfied: tqdm>4 in /Users/gevin/projects/pycharm/ai/venv/lib/python3.12/site-packages (from openai<2.0.0,>=1.26.0->langchain-openai==0.1.8) (4.66.4)\r\n",
      "Requirement already satisfied: typing-extensions<5,>=4.7 in /Users/gevin/projects/pycharm/ai/venv/lib/python3.12/site-packages (from openai<2.0.0,>=1.26.0->langchain-openai==0.1.8) (4.12.1)\r\n",
      "Requirement already satisfied: regex>=2022.1.18 in /Users/gevin/projects/pycharm/ai/venv/lib/python3.12/site-packages (from tiktoken<1,>=0.7->langchain-openai==0.1.8) (2024.5.15)\r\n",
      "Requirement already satisfied: requests>=2.26.0 in /Users/gevin/projects/pycharm/ai/venv/lib/python3.12/site-packages (from tiktoken<1,>=0.7->langchain-openai==0.1.8) (2.32.3)\r\n",
      "Requirement already satisfied: idna>=2.8 in /Users/gevin/projects/pycharm/ai/venv/lib/python3.12/site-packages (from anyio<5,>=3.5.0->openai<2.0.0,>=1.26.0->langchain-openai==0.1.8) (3.7)\r\n",
      "Requirement already satisfied: certifi in /Users/gevin/projects/pycharm/ai/venv/lib/python3.12/site-packages (from httpx<1,>=0.23.0->openai<2.0.0,>=1.26.0->langchain-openai==0.1.8) (2024.6.2)\r\n",
      "Requirement already satisfied: httpcore==1.* in /Users/gevin/projects/pycharm/ai/venv/lib/python3.12/site-packages (from httpx<1,>=0.23.0->openai<2.0.0,>=1.26.0->langchain-openai==0.1.8) (1.0.5)\r\n",
      "Requirement already satisfied: h11<0.15,>=0.13 in /Users/gevin/projects/pycharm/ai/venv/lib/python3.12/site-packages (from httpcore==1.*->httpx<1,>=0.23.0->openai<2.0.0,>=1.26.0->langchain-openai==0.1.8) (0.14.0)\r\n",
      "Requirement already satisfied: jsonpointer>=1.9 in /Users/gevin/projects/pycharm/ai/venv/lib/python3.12/site-packages (from jsonpatch<2.0,>=1.33->langchain-core<0.3,>=0.2.2->langchain-openai==0.1.8) (2.4)\r\n",
      "Requirement already satisfied: orjson<4.0.0,>=3.9.14 in /Users/gevin/projects/pycharm/ai/venv/lib/python3.12/site-packages (from langsmith<0.2.0,>=0.1.66->langchain-core<0.3,>=0.2.2->langchain-openai==0.1.8) (3.10.3)\r\n",
      "Requirement already satisfied: annotated-types>=0.4.0 in /Users/gevin/projects/pycharm/ai/venv/lib/python3.12/site-packages (from pydantic<3,>=1->langchain-core<0.3,>=0.2.2->langchain-openai==0.1.8) (0.7.0)\r\n",
      "Requirement already satisfied: pydantic-core==2.18.4 in /Users/gevin/projects/pycharm/ai/venv/lib/python3.12/site-packages (from pydantic<3,>=1->langchain-core<0.3,>=0.2.2->langchain-openai==0.1.8) (2.18.4)\r\n",
      "Requirement already satisfied: charset-normalizer<4,>=2 in /Users/gevin/projects/pycharm/ai/venv/lib/python3.12/site-packages (from requests>=2.26.0->tiktoken<1,>=0.7->langchain-openai==0.1.8) (3.3.2)\r\n",
      "Requirement already satisfied: urllib3<3,>=1.21.1 in /Users/gevin/projects/pycharm/ai/venv/lib/python3.12/site-packages (from requests>=2.26.0->tiktoken<1,>=0.7->langchain-openai==0.1.8) (2.2.1)\r\n"
     ]
    }
   ],
   "execution_count": 3
  },
  {
   "metadata": {
    "ExecuteTime": {
     "end_time": "2024-06-06T06:38:12.199666Z",
     "start_time": "2024-06-06T06:38:12.197097Z"
    }
   },
   "cell_type": "code",
   "source": [
    "deployment = \"gpt-4o\"\n",
    "model = \"gpt-4o\""
   ],
   "id": "47a0dc5a6799084b",
   "outputs": [],
   "execution_count": 1
  },
  {
   "metadata": {},
   "cell_type": "markdown",
   "source": "# 提示词模板",
   "id": "2e0f5ebc592675d5"
  },
  {
   "metadata": {
    "ExecuteTime": {
     "end_time": "2024-06-06T06:41:10.759274Z",
     "start_time": "2024-06-06T06:41:09.054118Z"
    }
   },
   "cell_type": "code",
   "source": [
    "import os\n",
    "from langchain import PromptTemplate, LLMChain\n",
    "\n",
    "# from langchain_openai import AzureOpenAI\n",
    "from langchain_openai import AzureChatOpenAI\n",
    "\n",
    "\n",
    "\n",
    "# from langchain.chat_models import ChatOpenAI # 直接访问 OpenAI 的 API \n",
    "\n",
    "prompt_template = \"\"\"Make a good name for a product, the product is described as follow: {product}. Please only return the best one. \"\"\"\n",
    "\n",
    "#llm = ChatOpenAI(model_name=\"gpt-4\", temperature=0) #直接访问OpenAI的GPT服务\n",
    "\n",
    "\n",
    "llm = AzureChatOpenAI(azure_deployment=deployment)\n",
    "\n",
    "\n",
    "llm_chain = LLMChain(prompt=PromptTemplate.from_template(prompt_template), llm=llm)\n",
    "llm_chain.invoke(\"colorful socks\")\n",
    "# llm_chain.run(\"colorful socks\")"
   ],
   "id": "2f18720d6d6faa85",
   "outputs": [
    {
     "data": {
      "text/plain": [
       "{'product': 'colorful socks', 'text': '\"VividSoles\"'}"
      ]
     },
     "execution_count": 4,
     "metadata": {},
     "output_type": "execute_result"
    }
   ],
   "execution_count": 4
  },
  {
   "metadata": {
    "ExecuteTime": {
     "end_time": "2024-06-06T06:37:53.258584Z",
     "start_time": "2024-06-06T06:37:49.514709Z"
    }
   },
   "cell_type": "code",
   "source": [
    "products = [{\"product\":\"'cloudnative devops platform'\"},\n",
    "            {\"product\":\"'Noise cancellation headphone'\"}, \n",
    "            {\"product\":\"colorful socks\"}]\n",
    "llm_chain.apply(products)"
   ],
   "id": "3a9dfcff38dfb011",
   "outputs": [
    {
     "data": {
      "text/plain": [
       "[{'text': 'CloudForge'}, {'text': 'WhisperWave'}, {'text': 'VividToes'}]"
      ]
     },
     "execution_count": 9,
     "metadata": {},
     "output_type": "execute_result"
    }
   ],
   "execution_count": 9
  },
  {
   "metadata": {
    "ExecuteTime": {
     "end_time": "2024-06-06T06:31:02.829911Z",
     "start_time": "2024-06-06T06:31:02.827803Z"
    }
   },
   "cell_type": "code",
   "source": "",
   "id": "99fa1237ea2c836b",
   "outputs": [],
   "execution_count": 6
  }
 ],
 "metadata": {
  "kernelspec": {
   "display_name": "Python 3",
   "language": "python",
   "name": "python3"
  },
  "language_info": {
   "codemirror_mode": {
    "name": "ipython",
    "version": 2
   },
   "file_extension": ".py",
   "mimetype": "text/x-python",
   "name": "python",
   "nbconvert_exporter": "python",
   "pygments_lexer": "ipython2",
   "version": "2.7.6"
  }
 },
 "nbformat": 4,
 "nbformat_minor": 5
}
