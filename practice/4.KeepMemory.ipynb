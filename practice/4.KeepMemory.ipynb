{
 "cells": [
  {
   "metadata": {},
   "cell_type": "markdown",
   "source": "# 通过Gradio快速展示功能",
   "id": "457cfdc45bba95db"
  },
  {
   "metadata": {
    "ExecuteTime": {
     "end_time": "2024-06-08T11:50:09.405230Z",
     "start_time": "2024-06-08T11:50:07.730850Z"
    }
   },
   "cell_type": "code",
   "source": "!pip install gradio",
   "id": "10166b96903674e6",
   "outputs": [
    {
     "name": "stdout",
     "output_type": "stream",
     "text": [
      "Requirement already satisfied: gradio in /Users/gevin/projects/pycharm/ai/venv/lib/python3.12/site-packages (4.36.0)\r\n",
      "Requirement already satisfied: aiofiles<24.0,>=22.0 in /Users/gevin/projects/pycharm/ai/venv/lib/python3.12/site-packages (from gradio) (23.2.1)\r\n",
      "Requirement already satisfied: altair<6.0,>=4.2.0 in /Users/gevin/projects/pycharm/ai/venv/lib/python3.12/site-packages (from gradio) (5.3.0)\r\n",
      "Requirement already satisfied: fastapi in /Users/gevin/projects/pycharm/ai/venv/lib/python3.12/site-packages (from gradio) (0.111.0)\r\n",
      "Requirement already satisfied: ffmpy in /Users/gevin/projects/pycharm/ai/venv/lib/python3.12/site-packages (from gradio) (0.3.2)\r\n",
      "Requirement already satisfied: gradio-client==1.0.1 in /Users/gevin/projects/pycharm/ai/venv/lib/python3.12/site-packages (from gradio) (1.0.1)\r\n",
      "Requirement already satisfied: httpx>=0.24.1 in /Users/gevin/projects/pycharm/ai/venv/lib/python3.12/site-packages (from gradio) (0.27.0)\r\n",
      "Requirement already satisfied: huggingface-hub>=0.19.3 in /Users/gevin/projects/pycharm/ai/venv/lib/python3.12/site-packages (from gradio) (0.23.2)\r\n",
      "Requirement already satisfied: importlib-resources<7.0,>=1.3 in /Users/gevin/projects/pycharm/ai/venv/lib/python3.12/site-packages (from gradio) (6.4.0)\r\n",
      "Requirement already satisfied: jinja2<4.0 in /Users/gevin/projects/pycharm/ai/venv/lib/python3.12/site-packages (from gradio) (3.1.4)\r\n",
      "Requirement already satisfied: markupsafe~=2.0 in /Users/gevin/projects/pycharm/ai/venv/lib/python3.12/site-packages (from gradio) (2.1.5)\r\n",
      "Requirement already satisfied: matplotlib~=3.0 in /Users/gevin/projects/pycharm/ai/venv/lib/python3.12/site-packages (from gradio) (3.9.0)\r\n",
      "Requirement already satisfied: numpy<3.0,>=1.0 in /Users/gevin/projects/pycharm/ai/venv/lib/python3.12/site-packages (from gradio) (1.26.4)\r\n",
      "Requirement already satisfied: orjson~=3.0 in /Users/gevin/projects/pycharm/ai/venv/lib/python3.12/site-packages (from gradio) (3.10.3)\r\n",
      "Requirement already satisfied: packaging in /Users/gevin/projects/pycharm/ai/venv/lib/python3.12/site-packages (from gradio) (23.2)\r\n",
      "Requirement already satisfied: pandas<3.0,>=1.0 in /Users/gevin/projects/pycharm/ai/venv/lib/python3.12/site-packages (from gradio) (2.2.2)\r\n",
      "Requirement already satisfied: pillow<11.0,>=8.0 in /Users/gevin/projects/pycharm/ai/venv/lib/python3.12/site-packages (from gradio) (10.3.0)\r\n",
      "Requirement already satisfied: pydantic>=2.0 in /Users/gevin/projects/pycharm/ai/venv/lib/python3.12/site-packages (from gradio) (2.7.3)\r\n",
      "Requirement already satisfied: pydub in /Users/gevin/projects/pycharm/ai/venv/lib/python3.12/site-packages (from gradio) (0.25.1)\r\n",
      "Requirement already satisfied: python-multipart>=0.0.9 in /Users/gevin/projects/pycharm/ai/venv/lib/python3.12/site-packages (from gradio) (0.0.9)\r\n",
      "Requirement already satisfied: pyyaml<7.0,>=5.0 in /Users/gevin/projects/pycharm/ai/venv/lib/python3.12/site-packages (from gradio) (6.0.1)\r\n",
      "Requirement already satisfied: ruff>=0.2.2 in /Users/gevin/projects/pycharm/ai/venv/lib/python3.12/site-packages (from gradio) (0.4.8)\r\n",
      "Requirement already satisfied: semantic-version~=2.0 in /Users/gevin/projects/pycharm/ai/venv/lib/python3.12/site-packages (from gradio) (2.10.0)\r\n",
      "Requirement already satisfied: tomlkit==0.12.0 in /Users/gevin/projects/pycharm/ai/venv/lib/python3.12/site-packages (from gradio) (0.12.0)\r\n",
      "Requirement already satisfied: typer<1.0,>=0.12 in /Users/gevin/projects/pycharm/ai/venv/lib/python3.12/site-packages (from gradio) (0.12.3)\r\n",
      "Requirement already satisfied: typing-extensions~=4.0 in /Users/gevin/projects/pycharm/ai/venv/lib/python3.12/site-packages (from gradio) (4.12.1)\r\n",
      "Requirement already satisfied: urllib3~=2.0 in /Users/gevin/projects/pycharm/ai/venv/lib/python3.12/site-packages (from gradio) (2.2.1)\r\n",
      "Requirement already satisfied: uvicorn>=0.14.0 in /Users/gevin/projects/pycharm/ai/venv/lib/python3.12/site-packages (from gradio) (0.30.1)\r\n",
      "Requirement already satisfied: fsspec in /Users/gevin/projects/pycharm/ai/venv/lib/python3.12/site-packages (from gradio-client==1.0.1->gradio) (2024.6.0)\r\n",
      "Requirement already satisfied: websockets<12.0,>=10.0 in /Users/gevin/projects/pycharm/ai/venv/lib/python3.12/site-packages (from gradio-client==1.0.1->gradio) (11.0.3)\r\n",
      "Requirement already satisfied: jsonschema>=3.0 in /Users/gevin/projects/pycharm/ai/venv/lib/python3.12/site-packages (from altair<6.0,>=4.2.0->gradio) (4.22.0)\r\n",
      "Requirement already satisfied: toolz in /Users/gevin/projects/pycharm/ai/venv/lib/python3.12/site-packages (from altair<6.0,>=4.2.0->gradio) (0.12.1)\r\n",
      "Requirement already satisfied: anyio in /Users/gevin/projects/pycharm/ai/venv/lib/python3.12/site-packages (from httpx>=0.24.1->gradio) (4.4.0)\r\n",
      "Requirement already satisfied: certifi in /Users/gevin/projects/pycharm/ai/venv/lib/python3.12/site-packages (from httpx>=0.24.1->gradio) (2024.6.2)\r\n",
      "Requirement already satisfied: httpcore==1.* in /Users/gevin/projects/pycharm/ai/venv/lib/python3.12/site-packages (from httpx>=0.24.1->gradio) (1.0.5)\r\n",
      "Requirement already satisfied: idna in /Users/gevin/projects/pycharm/ai/venv/lib/python3.12/site-packages (from httpx>=0.24.1->gradio) (3.7)\r\n",
      "Requirement already satisfied: sniffio in /Users/gevin/projects/pycharm/ai/venv/lib/python3.12/site-packages (from httpx>=0.24.1->gradio) (1.3.1)\r\n",
      "Requirement already satisfied: h11<0.15,>=0.13 in /Users/gevin/projects/pycharm/ai/venv/lib/python3.12/site-packages (from httpcore==1.*->httpx>=0.24.1->gradio) (0.14.0)\r\n",
      "Requirement already satisfied: filelock in /Users/gevin/projects/pycharm/ai/venv/lib/python3.12/site-packages (from huggingface-hub>=0.19.3->gradio) (3.14.0)\r\n",
      "Requirement already satisfied: requests in /Users/gevin/projects/pycharm/ai/venv/lib/python3.12/site-packages (from huggingface-hub>=0.19.3->gradio) (2.32.3)\r\n",
      "Requirement already satisfied: tqdm>=4.42.1 in /Users/gevin/projects/pycharm/ai/venv/lib/python3.12/site-packages (from huggingface-hub>=0.19.3->gradio) (4.66.4)\r\n",
      "Requirement already satisfied: contourpy>=1.0.1 in /Users/gevin/projects/pycharm/ai/venv/lib/python3.12/site-packages (from matplotlib~=3.0->gradio) (1.2.1)\r\n",
      "Requirement already satisfied: cycler>=0.10 in /Users/gevin/projects/pycharm/ai/venv/lib/python3.12/site-packages (from matplotlib~=3.0->gradio) (0.12.1)\r\n",
      "Requirement already satisfied: fonttools>=4.22.0 in /Users/gevin/projects/pycharm/ai/venv/lib/python3.12/site-packages (from matplotlib~=3.0->gradio) (4.53.0)\r\n",
      "Requirement already satisfied: kiwisolver>=1.3.1 in /Users/gevin/projects/pycharm/ai/venv/lib/python3.12/site-packages (from matplotlib~=3.0->gradio) (1.4.5)\r\n",
      "Requirement already satisfied: pyparsing>=2.3.1 in /Users/gevin/projects/pycharm/ai/venv/lib/python3.12/site-packages (from matplotlib~=3.0->gradio) (3.1.2)\r\n",
      "Requirement already satisfied: python-dateutil>=2.7 in /Users/gevin/projects/pycharm/ai/venv/lib/python3.12/site-packages (from matplotlib~=3.0->gradio) (2.9.0.post0)\r\n",
      "Requirement already satisfied: pytz>=2020.1 in /Users/gevin/projects/pycharm/ai/venv/lib/python3.12/site-packages (from pandas<3.0,>=1.0->gradio) (2024.1)\r\n",
      "Requirement already satisfied: tzdata>=2022.7 in /Users/gevin/projects/pycharm/ai/venv/lib/python3.12/site-packages (from pandas<3.0,>=1.0->gradio) (2024.1)\r\n",
      "Requirement already satisfied: annotated-types>=0.4.0 in /Users/gevin/projects/pycharm/ai/venv/lib/python3.12/site-packages (from pydantic>=2.0->gradio) (0.7.0)\r\n",
      "Requirement already satisfied: pydantic-core==2.18.4 in /Users/gevin/projects/pycharm/ai/venv/lib/python3.12/site-packages (from pydantic>=2.0->gradio) (2.18.4)\r\n",
      "Requirement already satisfied: click>=8.0.0 in /Users/gevin/projects/pycharm/ai/venv/lib/python3.12/site-packages (from typer<1.0,>=0.12->gradio) (8.1.7)\r\n",
      "Requirement already satisfied: shellingham>=1.3.0 in /Users/gevin/projects/pycharm/ai/venv/lib/python3.12/site-packages (from typer<1.0,>=0.12->gradio) (1.5.4)\r\n",
      "Requirement already satisfied: rich>=10.11.0 in /Users/gevin/projects/pycharm/ai/venv/lib/python3.12/site-packages (from typer<1.0,>=0.12->gradio) (13.7.1)\r\n",
      "Requirement already satisfied: starlette<0.38.0,>=0.37.2 in /Users/gevin/projects/pycharm/ai/venv/lib/python3.12/site-packages (from fastapi->gradio) (0.37.2)\r\n",
      "Requirement already satisfied: fastapi-cli>=0.0.2 in /Users/gevin/projects/pycharm/ai/venv/lib/python3.12/site-packages (from fastapi->gradio) (0.0.4)\r\n",
      "Requirement already satisfied: ujson!=4.0.2,!=4.1.0,!=4.2.0,!=4.3.0,!=5.0.0,!=5.1.0,>=4.0.1 in /Users/gevin/projects/pycharm/ai/venv/lib/python3.12/site-packages (from fastapi->gradio) (5.10.0)\r\n",
      "Requirement already satisfied: email_validator>=2.0.0 in /Users/gevin/projects/pycharm/ai/venv/lib/python3.12/site-packages (from fastapi->gradio) (2.1.1)\r\n",
      "Requirement already satisfied: dnspython>=2.0.0 in /Users/gevin/projects/pycharm/ai/venv/lib/python3.12/site-packages (from email_validator>=2.0.0->fastapi->gradio) (2.6.1)\r\n",
      "Requirement already satisfied: attrs>=22.2.0 in /Users/gevin/projects/pycharm/ai/venv/lib/python3.12/site-packages (from jsonschema>=3.0->altair<6.0,>=4.2.0->gradio) (23.2.0)\r\n",
      "Requirement already satisfied: jsonschema-specifications>=2023.03.6 in /Users/gevin/projects/pycharm/ai/venv/lib/python3.12/site-packages (from jsonschema>=3.0->altair<6.0,>=4.2.0->gradio) (2023.12.1)\r\n",
      "Requirement already satisfied: referencing>=0.28.4 in /Users/gevin/projects/pycharm/ai/venv/lib/python3.12/site-packages (from jsonschema>=3.0->altair<6.0,>=4.2.0->gradio) (0.35.1)\r\n",
      "Requirement already satisfied: rpds-py>=0.7.1 in /Users/gevin/projects/pycharm/ai/venv/lib/python3.12/site-packages (from jsonschema>=3.0->altair<6.0,>=4.2.0->gradio) (0.18.1)\r\n",
      "Requirement already satisfied: six>=1.5 in /Users/gevin/projects/pycharm/ai/venv/lib/python3.12/site-packages (from python-dateutil>=2.7->matplotlib~=3.0->gradio) (1.16.0)\r\n",
      "Requirement already satisfied: markdown-it-py>=2.2.0 in /Users/gevin/projects/pycharm/ai/venv/lib/python3.12/site-packages (from rich>=10.11.0->typer<1.0,>=0.12->gradio) (3.0.0)\r\n",
      "Requirement already satisfied: pygments<3.0.0,>=2.13.0 in /Users/gevin/projects/pycharm/ai/venv/lib/python3.12/site-packages (from rich>=10.11.0->typer<1.0,>=0.12->gradio) (2.18.0)\r\n",
      "Requirement already satisfied: httptools>=0.5.0 in /Users/gevin/projects/pycharm/ai/venv/lib/python3.12/site-packages (from uvicorn[standard]>=0.12.0->fastapi->gradio) (0.6.1)\r\n",
      "Requirement already satisfied: python-dotenv>=0.13 in /Users/gevin/projects/pycharm/ai/venv/lib/python3.12/site-packages (from uvicorn[standard]>=0.12.0->fastapi->gradio) (1.0.1)\r\n",
      "Requirement already satisfied: uvloop!=0.15.0,!=0.15.1,>=0.14.0 in /Users/gevin/projects/pycharm/ai/venv/lib/python3.12/site-packages (from uvicorn[standard]>=0.12.0->fastapi->gradio) (0.19.0)\r\n",
      "Requirement already satisfied: watchfiles>=0.13 in /Users/gevin/projects/pycharm/ai/venv/lib/python3.12/site-packages (from uvicorn[standard]>=0.12.0->fastapi->gradio) (0.22.0)\r\n",
      "Requirement already satisfied: charset-normalizer<4,>=2 in /Users/gevin/projects/pycharm/ai/venv/lib/python3.12/site-packages (from requests->huggingface-hub>=0.19.3->gradio) (3.3.2)\r\n",
      "Requirement already satisfied: mdurl~=0.1 in /Users/gevin/projects/pycharm/ai/venv/lib/python3.12/site-packages (from markdown-it-py>=2.2.0->rich>=10.11.0->typer<1.0,>=0.12->gradio) (0.1.2)\r\n"
     ]
    }
   ],
   "execution_count": 1
  },
  {
   "metadata": {
    "ExecuteTime": {
     "end_time": "2024-06-08T11:50:09.665278Z",
     "start_time": "2024-06-08T11:50:09.406616Z"
    }
   },
   "cell_type": "code",
   "source": [
    "import os\n",
    "from openai import AzureOpenAI\n",
    "\n",
    "deployment = \"gpt-4o\"\n",
    "client = AzureOpenAI(\n",
    "    api_key=os.getenv(\"AZURE_OPENAI_API_KEY\"),\n",
    "    api_version=os.getenv(\"OPENAI_API_VERSION\"),\n",
    "    azure_endpoint=os.getenv(\"AZURE_OPENAI_ENDPOINT\")\n",
    ")\n",
    "\n",
    "def get_response(inputs):\n",
    "    response = client.chat.completions.create(\n",
    "        model=deployment,\n",
    "        messages=[\n",
    "            {\"role\": \"system\", \"content\": \"You are a helpful assistant.\"},\n",
    "            {\"role\": \"user\", \"content\": inputs}\n",
    "        ],\n",
    "        temperature=0.8,\n",
    "        max_tokens=256,\n",
    "    )\n",
    "    return response.choices[0].message.content\n"
   ],
   "id": "3bc87be49ec3a78a",
   "outputs": [],
   "execution_count": 2
  },
  {
   "metadata": {
    "ExecuteTime": {
     "end_time": "2024-06-08T11:50:18.035273Z",
     "start_time": "2024-06-08T11:50:09.665826Z"
    }
   },
   "cell_type": "code",
   "source": [
    "# 不传入上下文，没有记忆\n",
    "print(get_response(\"你好，今天是周二我要去健身，我一般每周二健身。你今天干什么？\"))\n",
    "print(get_response(\"我一般周几健身？\"))"
   ],
   "id": "94b01acb8732b0e",
   "outputs": [
    {
     "name": "stdout",
     "output_type": "stream",
     "text": [
      "你好，很高兴听到你有健身的计划！作为一个人工智能助手，我没有实际的活动，但我随时准备好帮助你。你今天的健身计划是什么？如果你有任何关于健身的问题或者需要一些建议，我很乐意帮忙。\n",
      "每个人的健身时间安排可能会有所不同，要了解你具体的健身时间安排，还需要更多信息。一般来说，很多人会选择在工作日的晚上或者周末进行健身，因为这些时间段较为空闲。不过，你的具体健身时间取决于你的个人日程安排和生活习惯。如果你有记录健身的习惯，可以查看你的健身记录来确定你一般周几健身。\n"
     ]
    }
   ],
   "execution_count": 3
  },
  {
   "metadata": {
    "ExecuteTime": {
     "end_time": "2024-06-08T11:50:19.105607Z",
     "start_time": "2024-06-08T11:50:18.037610Z"
    }
   },
   "cell_type": "code",
   "source": [
    "import gradio as gr\n",
    "\n",
    "def respond(message, chat_history):\n",
    "    bot_message = get_response(message)\n",
    "    chat_history.append((message, bot_message)) # 保存历史对话记录，用于显示\n",
    "    return bot_message, chat_history\n",
    "\n",
    "with gr.Blocks() as demo:\n",
    "    chatbot = gr.Chatbot(height=240)\n",
    "    msg = gr.Textbox(label=\"Prompt\")\n",
    "    btn = gr.Button(value=\"提交\")\n",
    "    \n",
    "    btn.click(respond, inputs=[msg, chatbot], outputs=[msg, chatbot])\n",
    "    msg.submit(respond, inputs=[msg, chatbot], outputs=[msg, chatbot])\n",
    "    \n",
    "gr.close_all()\n",
    "demo.launch()"
   ],
   "id": "be62782295b00551",
   "outputs": [
    {
     "name": "stdout",
     "output_type": "stream",
     "text": [
      "Running on local URL:  http://127.0.0.1:7860\n",
      "\n",
      "Thanks for being a Gradio user! If you have questions or feedback, please join our Discord server and chat with us: https://discord.gg/feTf9x3ZSB\n",
      "\n",
      "To create a public link, set `share=True` in `launch()`.\n"
     ]
    },
    {
     "data": {
      "text/plain": [
       "<IPython.core.display.HTML object>"
      ],
      "text/html": [
       "<div><iframe src=\"http://127.0.0.1:7860/\" width=\"100%\" height=\"500\" allow=\"autoplay; camera; microphone; clipboard-read; clipboard-write;\" frameborder=\"0\" allowfullscreen></iframe></div>"
      ]
     },
     "metadata": {},
     "output_type": "display_data"
    },
    {
     "data": {
      "text/plain": []
     },
     "execution_count": 4,
     "metadata": {},
     "output_type": "execute_result"
    }
   ],
   "execution_count": 4
  },
  {
   "metadata": {},
   "cell_type": "markdown",
   "source": "# 提供记忆",
   "id": "bcb929f712c0b135"
  },
  {
   "metadata": {
    "ExecuteTime": {
     "end_time": "2024-06-08T11:50:19.109652Z",
     "start_time": "2024-06-08T11:50:19.106961Z"
    }
   },
   "cell_type": "code",
   "source": [
    "def get_response(inputs):\n",
    "    response = client.chat.completions.create(\n",
    "        model=deployment,\n",
    "        messages=inputs,\n",
    "        temperature=0.8,\n",
    "        max_tokens=256,\n",
    "    )\n",
    "    return response.choices[0].message.content\n",
    "\n",
    "def history_to_prompt(chat_history): # 将对话内容保存在一个List里\n",
    "    msg = [{\"role\": \"system\", \"content\": \"You are an AI assistant.\"}]\n",
    "    i = 0\n",
    "    for round_trip in chat_history: # 将List里的内容，组成 ChatCompletion的 messages部分，{role，content} dict\n",
    "        msg.append({\"role\": \"user\", \"content\": round_trip[0]})\n",
    "        msg.append({\"role\": \"assistant\", \"content\": round_trip[1]})\n",
    "    return msg\n",
    "\n",
    "def respond(message, chat_history):\n",
    "    his_msg = history_to_prompt(chat_history) #并装历史会话，ChatCompletion的 messages部分格式\n",
    "    his_msg.append({\"role\": \"user\", \"content\": message}) # 放入当前用户问题\n",
    "    bot_message = get_response(his_msg)\n",
    "    chat_history.append((message, bot_message)) # 将用户问题和返回保存到 历史记录 List\n",
    "    return \"\", chat_history"
   ],
   "id": "5ec91ad5bb23f472",
   "outputs": [],
   "execution_count": 5
  },
  {
   "metadata": {
    "ExecuteTime": {
     "end_time": "2024-06-08T11:51:37.287400Z",
     "start_time": "2024-06-08T11:50:19.110325Z"
    }
   },
   "cell_type": "code",
   "source": [
    "import gradio as gr\n",
    "with gr.Blocks() as demo:\n",
    "    chatbot = gr.Chatbot(height=240) #just to fit the notebook\n",
    "    msg = gr.Textbox(label=\"Prompt\")\n",
    "    btn = gr.Button(\"提交\")\n",
    "    clear = gr.ClearButton(components=[msg, chatbot], value=\"Clear console\")\n",
    "\n",
    "    btn.click(respond, inputs=[msg, chatbot], outputs=[msg, chatbot])\n",
    "    msg.submit(respond, inputs=[msg, chatbot], outputs=[msg, chatbot]) #Press enter to submit\n",
    "gr.close_all()\n",
    "demo.launch(share=False, debug=True)\n"
   ],
   "id": "5cd2e35b3c529e03",
   "outputs": [
    {
     "name": "stdout",
     "output_type": "stream",
     "text": [
      "Running on local URL:  http://127.0.0.1:7861\n",
      "\n",
      "To create a public link, set `share=True` in `launch()`.\n"
     ]
    },
    {
     "data": {
      "text/plain": [
       "<IPython.core.display.HTML object>"
      ],
      "text/html": [
       "<div><iframe src=\"http://127.0.0.1:7861/\" width=\"100%\" height=\"500\" allow=\"autoplay; camera; microphone; clipboard-read; clipboard-write;\" frameborder=\"0\" allowfullscreen></iframe></div>"
      ]
     },
     "metadata": {},
     "output_type": "display_data"
    },
    {
     "name": "stdout",
     "output_type": "stream",
     "text": [
      "Keyboard interruption in main thread... closing server.\n"
     ]
    },
    {
     "data": {
      "text/plain": []
     },
     "execution_count": 6,
     "metadata": {},
     "output_type": "execute_result"
    }
   ],
   "execution_count": 6
  },
  {
   "metadata": {
    "ExecuteTime": {
     "end_time": "2024-06-08T11:51:37.292122Z",
     "start_time": "2024-06-08T11:51:37.289573Z"
    }
   },
   "cell_type": "code",
   "source": "",
   "id": "cf6a60cc1ac6746",
   "outputs": [],
   "execution_count": 6
  }
 ],
 "metadata": {
  "kernelspec": {
   "display_name": "Python 3",
   "language": "python",
   "name": "python3"
  },
  "language_info": {
   "codemirror_mode": {
    "name": "ipython",
    "version": 2
   },
   "file_extension": ".py",
   "mimetype": "text/x-python",
   "name": "python",
   "nbconvert_exporter": "python",
   "pygments_lexer": "ipython2",
   "version": "2.7.6"
  }
 },
 "nbformat": 4,
 "nbformat_minor": 5
}
