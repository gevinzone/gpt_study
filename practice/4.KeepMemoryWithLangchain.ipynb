{
 "cells": [
  {
   "cell_type": "code",
   "id": "initial_id",
   "metadata": {
    "collapsed": true,
    "ExecuteTime": {
     "end_time": "2024-06-08T13:12:09.272395Z",
     "start_time": "2024-06-08T13:12:08.844493Z"
    }
   },
   "source": [
    "from langchain_openai import AzureChatOpenAI\n",
    "from langchain.memory import ConversationBufferWindowMemory\n",
    "from langchain.chains.conversation.base import ConversationChain\n",
    "\n",
    "deployment = \"gpt-4o\"\n",
    "\n",
    "llm = AzureChatOpenAI(\n",
    "    deployment_name=deployment,  # deployment_name 和 model 填一个即可\n",
    "    temperature=0.8,\n",
    "    max_tokens=256,\n",
    "    # model=deployment,\n",
    ")\n",
    "\n",
    "memory = ConversationBufferWindowMemory(memory_key=\"history\", k=10)\n",
    "\n",
    "\n",
    "def get_response(inputs):\n",
    "    print(\"------------\\n\",\n",
    "          memory.load_memory_variables({}),\n",
    "          \"\\n------------\\n\")\n",
    "\n",
    "    conversation_with_memory = ConversationChain(\n",
    "        llm=llm,\n",
    "        memory=memory,\n",
    "        verbose=False,\n",
    "    )\n",
    "    return conversation_with_memory.predict(input=inputs)"
   ],
   "outputs": [],
   "execution_count": 1
  },
  {
   "metadata": {
    "ExecuteTime": {
     "end_time": "2024-06-08T13:12:15.114864Z",
     "start_time": "2024-06-08T13:12:09.273521Z"
    }
   },
   "cell_type": "code",
   "source": [
    "print(\"Memory:\")\n",
    "print(get_response(\"你好，今天是周二我要去健身，我一般每周二健身。你今天干什么？\"))\n",
    "print(get_response(\"我一般周几健身？\"))"
   ],
   "id": "7a45b66a11570c4",
   "outputs": [
    {
     "name": "stdout",
     "output_type": "stream",
     "text": [
      "Memory:\n",
      "------------\n",
      " {'history': ''} \n",
      "------------\n",
      "\n",
      "你好！很高兴听到你每周二都有健身的习惯，这对身体健康非常有益。作为一个AI，我没有实体，所以我不能像你一样健身。不过，我一直在这里随时准备回答你的问题，提供帮助或者陪你聊天。今天我主要在处理各种各样的请求，帮助用户解答问题。你今天打算做哪些锻炼呢？\n",
      "------------\n",
      " {'history': 'Human: 你好，今天是周二我要去健身，我一般每周二健身。你今天干什么？\\nAI: 你好！很高兴听到你每周二都有健身的习惯，这对身体健康非常有益。作为一个AI，我没有实体，所以我不能像你一样健身。不过，我一直在这里随时准备回答你的问题，提供帮助或者陪你聊天。今天我主要在处理各种各样的请求，帮助用户解答问题。你今天打算做哪些锻炼呢？'} \n",
      "------------\n",
      "\n",
      "你提到你一般每周二健身。如果有其它的健身日，你没有提到。如果你有其它固定的健身安排，欢迎分享！\n"
     ]
    }
   ],
   "execution_count": 2
  },
  {
   "metadata": {
    "ExecuteTime": {
     "end_time": "2024-06-08T13:12:15.135229Z",
     "start_time": "2024-06-08T13:12:15.116186Z"
    }
   },
   "cell_type": "code",
   "source": [
    "from langchain_openai import AzureChatOpenAI\n",
    "from langchain.memory import ConversationSummaryBufferMemory\n",
    "from langchain.chains.conversation.base import ConversationChain\n",
    "\n",
    "deployment = \"gpt-4o\"\n",
    "\n",
    "llm = AzureChatOpenAI(\n",
    "    deployment_name=deployment,\n",
    "    temperature=0.8,\n",
    "    max_tokens=256,\n",
    ")\n",
    "\n",
    "# memory2 = ConversationSummaryBufferMemory(k=10) \n",
    "memory2 = ConversationSummaryBufferMemory(llm=llm, max_token_limit=1000)\n",
    "\n",
    "\n",
    "def get_response2(inputs):\n",
    "    print(\"------------\\n\",\n",
    "          memory.load_memory_variables({}),\n",
    "          \"\\n------------\\n\")\n",
    "\n",
    "    conversation_with_memory = ConversationChain(\n",
    "        llm=llm,\n",
    "        memory=memory2,\n",
    "        verbose=False,\n",
    "    )\n",
    "    return conversation_with_memory.predict(input=inputs)"
   ],
   "id": "c3812ff4c9a6166c",
   "outputs": [],
   "execution_count": 3
  },
  {
   "metadata": {
    "ExecuteTime": {
     "end_time": "2024-06-08T13:12:20.443482Z",
     "start_time": "2024-06-08T13:12:15.135868Z"
    }
   },
   "cell_type": "code",
   "source": [
    "print(\"Memory with summary:\")\n",
    "print(get_response2(\"你好，今天是周二我要去健身，我一般每周二健身。你今天干什么？\"))\n",
    "print(get_response2(\"我一般周几健身？\"))"
   ],
   "id": "d53970b9b7560866",
   "outputs": [
    {
     "name": "stdout",
     "output_type": "stream",
     "text": [
      "Memory with summary:\n",
      "------------\n",
      " {'history': 'Human: 你好，今天是周二我要去健身，我一般每周二健身。你今天干什么？\\nAI: 你好！很高兴听到你每周二都有健身的习惯，这对身体健康非常有益。作为一个AI，我没有实体，所以我不能像你一样健身。不过，我一直在这里随时准备回答你的问题，提供帮助或者陪你聊天。今天我主要在处理各种各样的请求，帮助用户解答问题。你今天打算做哪些锻炼呢？\\nHuman: 我一般周几健身？\\nAI: 你提到你一般每周二健身。如果有其它的健身日，你没有提到。如果你有其它固定的健身安排，欢迎分享！'} \n",
      "------------\n",
      "\n",
      "你好！今天我在这里和你聊天，帮助回答你的问题和提供信息。健身是个很好的习惯，每周二去健身一定能帮助你保持健康和活力。你通常在健身房做些什么锻炼呢？是否有特别喜欢的运动项目？\n",
      "------------\n",
      " {'history': 'Human: 你好，今天是周二我要去健身，我一般每周二健身。你今天干什么？\\nAI: 你好！很高兴听到你每周二都有健身的习惯，这对身体健康非常有益。作为一个AI，我没有实体，所以我不能像你一样健身。不过，我一直在这里随时准备回答你的问题，提供帮助或者陪你聊天。今天我主要在处理各种各样的请求，帮助用户解答问题。你今天打算做哪些锻炼呢？\\nHuman: 我一般周几健身？\\nAI: 你提到你一般每周二健身。如果有其它的健身日，你没有提到。如果你有其它固定的健身安排，欢迎分享！'} \n",
      "------------\n",
      "\n",
      "你提到你一般每周二健身，所以我推测你通常会在周二去健身。你还有其他喜欢的运动安排吗？\n"
     ]
    }
   ],
   "execution_count": 4
  },
  {
   "metadata": {
    "ExecuteTime": {
     "end_time": "2024-06-08T13:12:21.337694Z",
     "start_time": "2024-06-08T13:12:20.446834Z"
    }
   },
   "cell_type": "code",
   "source": [
    "import gradio as gr\n",
    "\n",
    "\n",
    "def respond(message, chat_history):\n",
    "    bot_message = get_response(message)\n",
    "    chat_history.append((message, bot_message))\n",
    "    return \"\", chat_history\n",
    "\n",
    "\n",
    "with gr.Blocks() as demo:\n",
    "    chatbot = gr.Chatbot(height=300)\n",
    "    msg = gr.Textbox(label=\"Prompt\", placeholder=\"input something\")\n",
    "    btn = gr.Button(\"Submit\")\n",
    "    clear = gr.ClearButton(value=\"Clear console\", components=[msg, chatbot])\n",
    "    msg.submit(respond, inputs=[msg, chatbot], outputs=[msg, chatbot])\n",
    "    btn.click(respond, inputs=[msg, chatbot], outputs=[msg, chatbot])\n",
    "\n",
    "gr.close_all()\n",
    "demo.launch()"
   ],
   "id": "64ad3081f751a077",
   "outputs": [
    {
     "name": "stdout",
     "output_type": "stream",
     "text": [
      "Running on local URL:  http://127.0.0.1:7861\n",
      "\n",
      "To create a public link, set `share=True` in `launch()`.\n"
     ]
    },
    {
     "data": {
      "text/plain": [
       "<IPython.core.display.HTML object>"
      ],
      "text/html": [
       "<div><iframe src=\"http://127.0.0.1:7861/\" width=\"100%\" height=\"500\" allow=\"autoplay; camera; microphone; clipboard-read; clipboard-write;\" frameborder=\"0\" allowfullscreen></iframe></div>"
      ]
     },
     "metadata": {},
     "output_type": "display_data"
    },
    {
     "data": {
      "text/plain": []
     },
     "execution_count": 5,
     "metadata": {},
     "output_type": "execute_result"
    }
   ],
   "execution_count": 5
  },
  {
   "metadata": {
    "ExecuteTime": {
     "end_time": "2024-06-08T13:12:21.340076Z",
     "start_time": "2024-06-08T13:12:21.338607Z"
    }
   },
   "cell_type": "code",
   "source": "",
   "id": "fcfa321bc1030fdd",
   "outputs": [],
   "execution_count": 5
  }
 ],
 "metadata": {
  "kernelspec": {
   "display_name": "Python 3",
   "language": "python",
   "name": "python3"
  },
  "language_info": {
   "codemirror_mode": {
    "name": "ipython",
    "version": 2
   },
   "file_extension": ".py",
   "mimetype": "text/x-python",
   "name": "python",
   "nbconvert_exporter": "python",
   "pygments_lexer": "ipython2",
   "version": "2.7.6"
  }
 },
 "nbformat": 4,
 "nbformat_minor": 5
}
