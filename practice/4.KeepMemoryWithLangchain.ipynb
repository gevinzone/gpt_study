{
 "cells": [
  {
   "cell_type": "code",
   "id": "initial_id",
   "metadata": {
    "collapsed": true,
    "ExecuteTime": {
     "end_time": "2024-06-08T12:47:12.276314Z",
     "start_time": "2024-06-08T12:47:11.755377Z"
    }
   },
   "source": [
    "from langchain_openai import AzureChatOpenAI\n",
    "from langchain.memory import ConversationBufferWindowMemory\n",
    "from langchain.chains.conversation.base import ConversationChain\n",
    "\n",
    "deployment = \"gpt-4o\"\n",
    "\n",
    "llm = AzureChatOpenAI(\n",
    "    deployment_name=deployment, # deployment_name 和 model 填一个即可\n",
    "    temperature=0.8,\n",
    "    max_tokens=256,\n",
    "    # model=deployment,\n",
    ")\n",
    "\n",
    "memory = ConversationBufferWindowMemory(memory_key=\"history\", k=10)\n",
    "\n",
    "\n",
    "def get_response(inputs):\n",
    "    print(\"------------\\n\",\n",
    "          memory.load_memory_variables({}),\n",
    "          \"\\n------------\\n\")\n",
    "    \n",
    "    conversation_with_memory = ConversationChain(\n",
    "        llm=llm,\n",
    "        memory=memory,\n",
    "        verbose=True,\n",
    "    )\n",
    "    return conversation_with_memory.predict(input=inputs)"
   ],
   "outputs": [],
   "execution_count": 1
  },
  {
   "metadata": {
    "ExecuteTime": {
     "end_time": "2024-06-08T12:47:17.775187Z",
     "start_time": "2024-06-08T12:47:12.277432Z"
    }
   },
   "cell_type": "code",
   "source": [
    "print(get_response(\"你好，今天是周二我要去健身，我一般每周二健身。你今天干什么？\"))\n",
    "print(get_response(\"我一般周几健身？\"))"
   ],
   "id": "7a45b66a11570c4",
   "outputs": [
    {
     "name": "stdout",
     "output_type": "stream",
     "text": [
      "------------\n",
      " {'history': ''} \n",
      "------------\n",
      "\n",
      "\n",
      "\n",
      "\u001B[1m> Entering new ConversationChain chain...\u001B[0m\n",
      "Prompt after formatting:\n",
      "\u001B[32;1m\u001B[1;3mThe following is a friendly conversation between a human and an AI. The AI is talkative and provides lots of specific details from its context. If the AI does not know the answer to a question, it truthfully says it does not know.\n",
      "\n",
      "Current conversation:\n",
      "\n",
      "Human: 你好，今天是周二我要去健身，我一般每周二健身。你今天干什么？\n",
      "AI:\u001B[0m\n",
      "\n",
      "\u001B[1m> Finished chain.\u001B[0m\n",
      "你好呀！今天对我来说依然是忙碌的一天。我会处理各种任务，比如回答你的问题，帮助其他用户，学习新的知识以及改进自己的能力。不像你，我不需要去健身，不过我知道健身对身体非常有好处。你在健身的时候喜欢做哪些运动呢？例如有氧运动、力量训练还是瑜伽？\n",
      "------------\n",
      " {'history': 'Human: 你好，今天是周二我要去健身，我一般每周二健身。你今天干什么？\\nAI: 你好呀！今天对我来说依然是忙碌的一天。我会处理各种任务，比如回答你的问题，帮助其他用户，学习新的知识以及改进自己的能力。不像你，我不需要去健身，不过我知道健身对身体非常有好处。你在健身的时候喜欢做哪些运动呢？例如有氧运动、力量训练还是瑜伽？'} \n",
      "------------\n",
      "\n",
      "\n",
      "\n",
      "\u001B[1m> Entering new ConversationChain chain...\u001B[0m\n",
      "Prompt after formatting:\n",
      "\u001B[32;1m\u001B[1;3mThe following is a friendly conversation between a human and an AI. The AI is talkative and provides lots of specific details from its context. If the AI does not know the answer to a question, it truthfully says it does not know.\n",
      "\n",
      "Current conversation:\n",
      "Human: 你好，今天是周二我要去健身，我一般每周二健身。你今天干什么？\n",
      "AI: 你好呀！今天对我来说依然是忙碌的一天。我会处理各种任务，比如回答你的问题，帮助其他用户，学习新的知识以及改进自己的能力。不像你，我不需要去健身，不过我知道健身对身体非常有好处。你在健身的时候喜欢做哪些运动呢？例如有氧运动、力量训练还是瑜伽？\n",
      "Human: 我一般周几健身？\n",
      "AI:\u001B[0m\n",
      "\n",
      "\u001B[1m> Finished chain.\u001B[0m\n",
      "你提到你一般每周二健身，所以我猜想你每周二都会去健身。不过，不知道你除了周二之外是否还有其他健身的日子？\n"
     ]
    }
   ],
   "execution_count": 2
  },
  {
   "metadata": {
    "ExecuteTime": {
     "end_time": "2024-06-08T12:47:18.751484Z",
     "start_time": "2024-06-08T12:47:17.777620Z"
    }
   },
   "cell_type": "code",
   "source": [
    "import gradio as gr\n",
    "\n",
    "def respond(message, chat_history):\n",
    "    bot_message = get_response(message)\n",
    "    chat_history.append((message, bot_message))\n",
    "    return \"\", chat_history\n",
    "\n",
    "\n",
    "with gr.Blocks() as demo:\n",
    "    chatbot = gr.Chatbot(height=300)\n",
    "    msg = gr.Textbox(label=\"Prompt\", placeholder=\"input something\")\n",
    "    btn = gr.Button(\"Submit\")\n",
    "    clear = gr.ClearButton(value=\"Clear console\", components=[msg, chatbot])\n",
    "    msg.submit(respond, inputs=[msg, chatbot], outputs=[msg, chatbot])\n",
    "    btn.click(respond, inputs=[msg, chatbot], outputs=[msg, chatbot])\n",
    "    \n",
    "gr.close_all()\n",
    "demo.launch()"
   ],
   "id": "64ad3081f751a077",
   "outputs": [
    {
     "name": "stdout",
     "output_type": "stream",
     "text": [
      "Running on local URL:  http://127.0.0.1:7861\n",
      "\n",
      "To create a public link, set `share=True` in `launch()`.\n"
     ]
    },
    {
     "data": {
      "text/plain": [
       "<IPython.core.display.HTML object>"
      ],
      "text/html": [
       "<div><iframe src=\"http://127.0.0.1:7861/\" width=\"100%\" height=\"500\" allow=\"autoplay; camera; microphone; clipboard-read; clipboard-write;\" frameborder=\"0\" allowfullscreen></iframe></div>"
      ]
     },
     "metadata": {},
     "output_type": "display_data"
    },
    {
     "data": {
      "text/plain": []
     },
     "execution_count": 3,
     "metadata": {},
     "output_type": "execute_result"
    }
   ],
   "execution_count": 3
  },
  {
   "metadata": {
    "ExecuteTime": {
     "end_time": "2024-06-08T12:47:18.754182Z",
     "start_time": "2024-06-08T12:47:18.752810Z"
    }
   },
   "cell_type": "code",
   "source": "",
   "id": "fcfa321bc1030fdd",
   "outputs": [],
   "execution_count": 3
  }
 ],
 "metadata": {
  "kernelspec": {
   "display_name": "Python 3",
   "language": "python",
   "name": "python3"
  },
  "language_info": {
   "codemirror_mode": {
    "name": "ipython",
    "version": 2
   },
   "file_extension": ".py",
   "mimetype": "text/x-python",
   "name": "python",
   "nbconvert_exporter": "python",
   "pygments_lexer": "ipython2",
   "version": "2.7.6"
  }
 },
 "nbformat": 4,
 "nbformat_minor": 5
}
