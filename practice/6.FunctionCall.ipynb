{
 "cells": [
  {
   "cell_type": "code",
   "id": "initial_id",
   "metadata": {
    "collapsed": true,
    "ExecuteTime": {
     "end_time": "2024-06-08T15:19:58.483954Z",
     "start_time": "2024-06-08T15:19:58.471480Z"
    }
   },
   "source": [
    "import json\n",
    "from openai import AzureOpenAI\n",
    "\n",
    "deployment = \"gpt-4o\"\n",
    "client = AzureOpenAI()\n",
    "\n",
    "\n",
    "def get_current_cluster_state(cluster_name):\n",
    "    print(f\"cluster:{cluster_name}\")\n",
    "    return  \"\"\"ERROR: Failed to pull image \"chaocai/docker/dsp:latest\"\"\"\n",
    "\n",
    "funcs = {\"get_current_cluster_state\": get_current_cluster_state}\n",
    "\n",
    "\n",
    "def run_conversation(msg):\n",
    "    response = client.chat.completions.create(\n",
    "        model=deployment,\n",
    "        messages=msg,\n",
    "        functions=[\n",
    "            {\n",
    "                \"name\": \"get_current_cluster_state\",\n",
    "                \"description\": \"Get the current state in a given cluster\",\n",
    "                \"parameters\": {\n",
    "                    \"type\": \"object\",\n",
    "                    \"properties\": {\n",
    "                        \"cluster_name\": {\n",
    "                            \"type\": \"string\",\n",
    "                            \"description\": \"the name of the cluster\"\n",
    "                        },\n",
    "                    },\n",
    "                    \"required\": [\"cluster_name\"],\n",
    "                }\n",
    "            }\n",
    "        ],\n",
    "        function_call=\"auto\",\n",
    "    )\n",
    "    \n",
    "    message = response.choices[0].message\n",
    "    print(\"----- message ----\")\n",
    "    print(message)\n",
    "    print(\"----- message ----\")\n",
    "    \n",
    "    print(message.role)\n",
    "    \n",
    "    if not message.function_call:\n",
    "        return message\n",
    "    \n",
    "    function_name = message.function_call.name\n",
    "    function_args = json.loads(message.function_call.arguments)\n",
    "    print(\"function_name: \", function_name, \"\\nfunction_args: \", function_args)\n",
    "    \n",
    "    res = funcs[function_name](**function_args)\n",
    "    \n",
    "    # message.content = None\n",
    "    # msg.append(message)\n",
    "    msg.append({\n",
    "            \"role\": message.role,\n",
    "            \"function_call\": {\n",
    "                \"name\": function_name,\n",
    "                \"arguments\": message.function_call.arguments,\n",
    "            },\n",
    "            \"content\": None\n",
    "        })\n",
    "    msg.append({\n",
    "        \"role\": \"function\",\n",
    "        \"name\": function_name,\n",
    "        \"content\": res,\n",
    "    })\n",
    "    \n",
    "    return run_conversation(msg)\n",
    "\n",
    "def run(inputs):\n",
    "    msg=[{\"role\":\"user\",\"content\":inputs}]\n",
    "    res = run_conversation(msg)\n",
    "    return res.content\n",
    "\n"
   ],
   "outputs": [],
   "execution_count": 10
  },
  {
   "metadata": {
    "ExecuteTime": {
     "end_time": "2024-06-08T15:20:00.481227Z",
     "start_time": "2024-06-08T15:19:58.485347Z"
    }
   },
   "cell_type": "code",
   "source": [
    "result = run(\"Hello\")\n",
    "print(result)"
   ],
   "id": "4174ffbf635d13d6",
   "outputs": [
    {
     "name": "stdout",
     "output_type": "stream",
     "text": [
      "----- message ----\n",
      "ChatCompletionMessage(content='Hi there! How can I assist you today?', role='assistant', function_call=None, tool_calls=None)\n",
      "----- message ----\n",
      "assistant\n",
      "Hi there! How can I assist you today?\n"
     ]
    }
   ],
   "execution_count": 11
  },
  {
   "metadata": {
    "ExecuteTime": {
     "end_time": "2024-06-08T15:20:13.463784Z",
     "start_time": "2024-06-08T15:20:00.483493Z"
    }
   },
   "cell_type": "code",
   "source": [
    "result = run(\"What's wrong with the cluster 'DSP'? And if there's an error, give me some suggestion. \")\n",
    "print(result)"
   ],
   "id": "61bafb22e21e8cb0",
   "outputs": [
    {
     "name": "stdout",
     "output_type": "stream",
     "text": [
      "----- message ----\n",
      "ChatCompletionMessage(content=None, role='assistant', function_call=FunctionCall(arguments='{\"cluster_name\":\"DSP\"}', name='get_current_cluster_state'), tool_calls=None)\n",
      "----- message ----\n",
      "assistant\n",
      "function_name:  get_current_cluster_state \n",
      "function_args:  {'cluster_name': 'DSP'}\n",
      "cluster:DSP\n",
      "----- message ----\n",
      "ChatCompletionMessage(content='The issue with the \\'DSP\\' cluster is that it failed to pull the image \"chaocai/docker/dsp:latest.\" This could be due to several reasons, such as:\\n\\n1. **Incorrect Image Name or Tag:**\\n   - Verify that the image name and tag are correct.\\n\\n2. **Network Issues:**\\n   - Check the network connectivity between your cluster and the Docker registry.\\n\\n3. **Registry Authentication Issues:**\\n   - Ensure that your cluster has the correct authentication credentials to pull images from the registry.\\n\\n4. **Image Not Found:**\\n   - Make sure the image `chaocai/docker/dsp:latest` exists in the Docker registry.\\n\\n5. **Registry Downtime:**\\n   - The Docker registry might be down or experiencing issues.\\n\\n### Suggestions\\n\\n1. **Verify Image Name and Tag:**\\n   - Double-check that the image name `chaocai/docker/dsp:latest` is correct.\\n\\n2. **Check Network Connectivity:**\\n   - Ensure your cluster nodes have internet access and can reach the Docker registry.\\n\\n3. **Check Registry Credentials:**\\n   - Make sure your cluster is configured with the correct credentials to access private Docker registries.\\n\\n4. **Search for Image:**\\n   - Manually search for `chaocai/docker/dsp:latest` on Docker Hub or your private registry to ensure it exists.\\n\\n5. **Retry Pulling the Image:**\\n   - Attempt to manually pull the image from the cluster nodes to see if the issue persists: `docker pull chaocai/docker/dsp:latest`.\\n\\nIf the problem persists after these steps, you may need to contact support for the registry or examine logs for more detailed error messages.', role='assistant', function_call=None, tool_calls=None)\n",
      "----- message ----\n",
      "assistant\n",
      "The issue with the 'DSP' cluster is that it failed to pull the image \"chaocai/docker/dsp:latest.\" This could be due to several reasons, such as:\n",
      "\n",
      "1. **Incorrect Image Name or Tag:**\n",
      "   - Verify that the image name and tag are correct.\n",
      "\n",
      "2. **Network Issues:**\n",
      "   - Check the network connectivity between your cluster and the Docker registry.\n",
      "\n",
      "3. **Registry Authentication Issues:**\n",
      "   - Ensure that your cluster has the correct authentication credentials to pull images from the registry.\n",
      "\n",
      "4. **Image Not Found:**\n",
      "   - Make sure the image `chaocai/docker/dsp:latest` exists in the Docker registry.\n",
      "\n",
      "5. **Registry Downtime:**\n",
      "   - The Docker registry might be down or experiencing issues.\n",
      "\n",
      "### Suggestions\n",
      "\n",
      "1. **Verify Image Name and Tag:**\n",
      "   - Double-check that the image name `chaocai/docker/dsp:latest` is correct.\n",
      "\n",
      "2. **Check Network Connectivity:**\n",
      "   - Ensure your cluster nodes have internet access and can reach the Docker registry.\n",
      "\n",
      "3. **Check Registry Credentials:**\n",
      "   - Make sure your cluster is configured with the correct credentials to access private Docker registries.\n",
      "\n",
      "4. **Search for Image:**\n",
      "   - Manually search for `chaocai/docker/dsp:latest` on Docker Hub or your private registry to ensure it exists.\n",
      "\n",
      "5. **Retry Pulling the Image:**\n",
      "   - Attempt to manually pull the image from the cluster nodes to see if the issue persists: `docker pull chaocai/docker/dsp:latest`.\n",
      "\n",
      "If the problem persists after these steps, you may need to contact support for the registry or examine logs for more detailed error messages.\n"
     ]
    }
   ],
   "execution_count": 12
  },
  {
   "metadata": {
    "ExecuteTime": {
     "end_time": "2024-06-08T15:20:13.466207Z",
     "start_time": "2024-06-08T15:20:13.464784Z"
    }
   },
   "cell_type": "code",
   "source": "",
   "id": "d42b76e6ddd0782f",
   "outputs": [],
   "execution_count": 12
  }
 ],
 "metadata": {
  "kernelspec": {
   "display_name": "Python 3",
   "language": "python",
   "name": "python3"
  },
  "language_info": {
   "codemirror_mode": {
    "name": "ipython",
    "version": 2
   },
   "file_extension": ".py",
   "mimetype": "text/x-python",
   "name": "python",
   "nbconvert_exporter": "python",
   "pygments_lexer": "ipython2",
   "version": "2.7.6"
  }
 },
 "nbformat": 4,
 "nbformat_minor": 5
}
