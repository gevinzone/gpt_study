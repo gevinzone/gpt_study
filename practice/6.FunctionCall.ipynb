{
 "cells": [
  {
   "cell_type": "code",
   "id": "initial_id",
   "metadata": {
    "collapsed": true,
    "ExecuteTime": {
     "end_time": "2024-06-08T15:06:49.160675Z",
     "start_time": "2024-06-08T15:06:48.950302Z"
    }
   },
   "source": [
    "import json\n",
    "from openai import AzureOpenAI\n",
    "\n",
    "deployment = \"gpt-4o\"\n",
    "client = AzureOpenAI()\n",
    "\n",
    "\n",
    "def get_current_cluster_state(cluster_name):\n",
    "    print(f\"cluster:{cluster_name}\")\n",
    "    return  \"\"\"ERROR: Failed to pull image \"chaocai/docker/dsp:latest\"\"\"\n",
    "\n",
    "funcs = {\"get_current_cluster_state\": get_current_cluster_state}\n",
    "\n",
    "\n",
    "def run_conversation(msg):\n",
    "    response = client.chat.completions.create(\n",
    "        model=deployment,\n",
    "        messages=msg,\n",
    "        functions=[\n",
    "            {\n",
    "                \"name\": \"get_current_cluster_state\",\n",
    "                \"description\": \"Get the current state in a given cluster\",\n",
    "                \"parameters\": {\n",
    "                    \"type\": \"object\",\n",
    "                    \"properties\": {\n",
    "                        \"cluster_name\": {\n",
    "                            \"type\": \"string\",\n",
    "                            \"description\": \"the name of the cluster\"\n",
    "                        },\n",
    "                    },\n",
    "                    \"required\": [\"cluster_name\"],\n",
    "                }\n",
    "            }\n",
    "        ],\n",
    "        function_call=\"auto\",\n",
    "    )\n",
    "    \n",
    "    message = response.choices[0].message\n",
    "    print(\"----- message ----\")\n",
    "    print(message)\n",
    "    print(\"----- message ----\")\n",
    "    \n",
    "    if not message.function_call:\n",
    "        return message\n",
    "    \n",
    "    function_name = message.function_call.name\n",
    "    function_args = json.loads(message.function_call.arguments)\n",
    "    print(\"function_name: \", function_name, \"\\nfunction_args: \", function_args)\n",
    "    \n",
    "    # res = funcs[function_name](function_args[\"cluster_name\"])\n",
    "    res = funcs[function_name](**function_args)\n",
    "    \n",
    "    message.content = None\n",
    "    msg.append(message)\n",
    "    msg.append({\n",
    "        \"role\": \"function\",\n",
    "        \"name\": function_name,\n",
    "        \"content\": res,\n",
    "    })\n",
    "    \n",
    "    return run_conversation(msg)\n",
    "\n",
    "def run(inputs):\n",
    "    msg=[{\"role\":\"user\",\"content\":inputs}]\n",
    "    res = run_conversation(msg)\n",
    "    return res.content\n",
    "\n"
   ],
   "outputs": [],
   "execution_count": 1
  },
  {
   "metadata": {
    "ExecuteTime": {
     "end_time": "2024-06-08T15:06:50.875958Z",
     "start_time": "2024-06-08T15:06:49.161726Z"
    }
   },
   "cell_type": "code",
   "source": [
    "result = run(\"Hello\")\n",
    "print(result)"
   ],
   "id": "4174ffbf635d13d6",
   "outputs": [
    {
     "name": "stdout",
     "output_type": "stream",
     "text": [
      "----- message ----\n",
      "ChatCompletionMessage(content='Hi there! How can I assist you today?', role='assistant', function_call=None, tool_calls=None)\n",
      "----- message ----\n",
      "Hi there! How can I assist you today?\n"
     ]
    }
   ],
   "execution_count": 2
  },
  {
   "metadata": {
    "ExecuteTime": {
     "end_time": "2024-06-08T15:06:59.890953Z",
     "start_time": "2024-06-08T15:06:50.876957Z"
    }
   },
   "cell_type": "code",
   "source": [
    "result = run(\"What's wrong with the cluster 'DSP'? And if there's an error, give me some suggestion. \")\n",
    "print(result)"
   ],
   "id": "61bafb22e21e8cb0",
   "outputs": [
    {
     "name": "stdout",
     "output_type": "stream",
     "text": [
      "----- message ----\n",
      "ChatCompletionMessage(content=None, role='assistant', function_call=FunctionCall(arguments='{\"cluster_name\":\"DSP\"}', name='get_current_cluster_state'), tool_calls=None)\n",
      "----- message ----\n",
      "function_name:  get_current_cluster_state \n",
      "function_args:  {'cluster_name': 'DSP'}\n",
      "cluster:DSP\n",
      "----- message ----\n",
      "ChatCompletionMessage(content='The error indicates that the cluster \\'DSP\\' failed to pull the Docker image \"chaocai/docker/dsp:latest\". Here are a few suggestions to resolve the issue:\\n\\n1. **Check Image Repository**:\\n   - Ensure that the Docker image exists in the repository.\\n   - Verify that the repository URL is correct and that the tag \"latest\" exists.\\n\\n2. **Verify Network Connectivity**:\\n   - Confirm that the cluster has internet access to pull images from the repository.\\n   - Check for any proxy or firewall configurations that might be blocking the request.\\n\\n3. **Authentication**:\\n   - If the image repository requires authentication, ensure that the cluster is properly authenticated.\\n   - Verify credentials (e.g., login token, username/password) are correctly configured.\\n\\n4. **Image Pull Policy**:\\n   - Check the deployment configuration for the image pull policy. You can try changing it to \"Always\" to force a pull and see if there are any transient issues.\\n\\n5. **Disk Space**:\\n   - Ensure that there is enough disk space in the nodes of the cluster to pull the image.\\n\\n6. **Docker Daemon Logs**:\\n   - Check the Docker daemon logs on the nodes for more detailed error messages.\\n\\nAfter addressing these areas, you can attempt to pull the Docker image again.', role='assistant', function_call=None, tool_calls=None)\n",
      "----- message ----\n",
      "The error indicates that the cluster 'DSP' failed to pull the Docker image \"chaocai/docker/dsp:latest\". Here are a few suggestions to resolve the issue:\n",
      "\n",
      "1. **Check Image Repository**:\n",
      "   - Ensure that the Docker image exists in the repository.\n",
      "   - Verify that the repository URL is correct and that the tag \"latest\" exists.\n",
      "\n",
      "2. **Verify Network Connectivity**:\n",
      "   - Confirm that the cluster has internet access to pull images from the repository.\n",
      "   - Check for any proxy or firewall configurations that might be blocking the request.\n",
      "\n",
      "3. **Authentication**:\n",
      "   - If the image repository requires authentication, ensure that the cluster is properly authenticated.\n",
      "   - Verify credentials (e.g., login token, username/password) are correctly configured.\n",
      "\n",
      "4. **Image Pull Policy**:\n",
      "   - Check the deployment configuration for the image pull policy. You can try changing it to \"Always\" to force a pull and see if there are any transient issues.\n",
      "\n",
      "5. **Disk Space**:\n",
      "   - Ensure that there is enough disk space in the nodes of the cluster to pull the image.\n",
      "\n",
      "6. **Docker Daemon Logs**:\n",
      "   - Check the Docker daemon logs on the nodes for more detailed error messages.\n",
      "\n",
      "After addressing these areas, you can attempt to pull the Docker image again.\n"
     ]
    }
   ],
   "execution_count": 3
  }
 ],
 "metadata": {
  "kernelspec": {
   "display_name": "Python 3",
   "language": "python",
   "name": "python3"
  },
  "language_info": {
   "codemirror_mode": {
    "name": "ipython",
    "version": 2
   },
   "file_extension": ".py",
   "mimetype": "text/x-python",
   "name": "python",
   "nbconvert_exporter": "python",
   "pygments_lexer": "ipython2",
   "version": "2.7.6"
  }
 },
 "nbformat": 4,
 "nbformat_minor": 5
}
