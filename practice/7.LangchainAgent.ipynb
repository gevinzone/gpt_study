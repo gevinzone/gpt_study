{
 "cells": [
  {
   "metadata": {},
   "cell_type": "markdown",
   "source": "# Langchain Agent",
   "id": "d7134a387d24a73d"
  },
  {
   "metadata": {
    "ExecuteTime": {
     "end_time": "2024-06-10T12:52:32.944704Z",
     "start_time": "2024-06-10T12:52:31.968020Z"
    }
   },
   "cell_type": "code",
   "source": [
    "from langchain.prompts.prompt import PromptTemplate\n",
    "from langchain.agents import initialize_agent, Tool, create_react_agent, AgentExecutor\n",
    "from langchain.agents.agent_types import AgentType\n",
    "from langchain.utilities import GoogleSerperAPIWrapper\n",
    "from langchain_openai import AzureChatOpenAI\n",
    "\n",
    "deployment = \"gpt-4o\"\n",
    "\n",
    "llm = AzureChatOpenAI(deployment_name=deployment, model_name=deployment, temperature=0.8, max_tokens=256)\n",
    "\n",
    "\n",
    "def query_web(question):\n",
    "    search = GoogleSerperAPIWrapper()\n",
    "    return search.run(question)\n",
    "\n",
    "\n",
    "def get_current_cluster_state(cluster_name):\n",
    "    print(f\"cluster:{cluster_name}\")\n",
    "    return \"\"\"ERROR: Failed to pull image \"chaocai/docker/dsp:latest\"\"\"\n",
    "\n",
    "\n",
    "tools = [\n",
    "    Tool(\n",
    "        name=\"Get current info\",\n",
    "        func=query_web,\n",
    "        description=\"\"\"invoke it for when you need to answer questions about current info.\n",
    "             And the input should be a search query.\"\"\"),\n",
    "    Tool(\n",
    "        name=\"Get current cluster state\",\n",
    "        func=get_current_cluster_state,\n",
    "        description=\"\"\"invoke it for when you need to get the current state in a given cluster, \n",
    "        And the input should be service name.\"\"\")\n",
    "]\n",
    "\n",
    "agent = initialize_agent(tools, llm, agent=AgentType.ZERO_SHOT_REACT_DESCRIPTION, max_iterations=3, verbose=True)\n",
    "\n",
    "\n",
    "template = '''Answer the following questions as best you can. You have access to the following tools:\n",
    "\n",
    "{tools}\n",
    "\n",
    "Use the following format:\n",
    "\n",
    "Question: the input question you must answer\n",
    "Thought: you should always think about what to do\n",
    "Action: the action to take, should be one of [{tool_names}]\n",
    "Action Input: the input to the action\n",
    "Observation: the result of the action\n",
    "... (this Thought/Action/Action Input/Observation can repeat N times)\n",
    "Thought: I now know the final answer\n",
    "Final Answer: the final answer to the original input question\n",
    "\n",
    "Begin!\n",
    "\n",
    "Question: {input}\n",
    "Thought:{agent_scratchpad}'''\n",
    "\n",
    "prompt = PromptTemplate.from_template(template)\n",
    "\n",
    "agent2 = create_react_agent(llm=llm, tools=tools, prompt=prompt)\n",
    "def _handle_error(error) -> str:\n",
    "    return str(error)[:50]\n",
    "\n",
    "\n",
    "agent_executor = AgentExecutor(\n",
    "    agent=agent2,\n",
    "    tools=tools,\n",
    "    verbose=True,\n",
    "    handle_parsing_errors=_handle_error,\n",
    "    # handle_parsing_errors=True\n",
    "    \n",
    ")\n",
    "\n",
    "\n"
   ],
   "id": "e2575c66229a559e",
   "outputs": [
    {
     "name": "stderr",
     "output_type": "stream",
     "text": [
      "/Users/gevin/projects/pycharm/ai/venv/lib/python3.12/site-packages/langchain_core/_api/deprecation.py:119: LangChainDeprecationWarning: The function `initialize_agent` was deprecated in LangChain 0.1.0 and will be removed in 0.3.0. Use Use new agent constructor methods like create_react_agent, create_json_agent, create_structured_chat_agent, etc. instead.\n",
      "  warn_deprecated(\n"
     ]
    }
   ],
   "execution_count": 1
  },
  {
   "metadata": {
    "ExecuteTime": {
     "end_time": "2024-06-10T12:53:14.398118Z",
     "start_time": "2024-06-10T12:52:55.574549Z"
    }
   },
   "cell_type": "code",
   "source": [
    "# agent.invoke(\"杭州今天穿什么合适？\")\n",
    "agent_executor.invoke({\"input\": \"杭州今天穿什么合适？\"})\n",
    "# agent2.invoke(\"杭州今天穿什么合适？\")\n",
    "# agent2. invoke(input=\"杭州今天穿什么合适？\")"
   ],
   "id": "5502d8f107e4016b",
   "outputs": [
    {
     "name": "stdout",
     "output_type": "stream",
     "text": [
      "\n",
      "\n",
      "\u001B[1m> Entering new AgentExecutor chain...\u001B[0m\n",
      "\u001B[32;1m\u001B[1;3mTo determine what is suitable to wear in Hangzhou today, I need to check the current weather conditions in Hangzhou.\n",
      "\n",
      "Action: Get current info\n",
      "Action Input: \"Hangzhou weather today\"\u001B[0m\u001B[36;1m\u001B[1;3m71°F\u001B[0m\u001B[32;1m\u001B[1;3mObservation alone is not enough; I need to understand the weather conditions such as temperature, precipitation, and wind to give a comprehensive recommendation on what to wear.\n",
      "\n",
      "Action: Get current info\n",
      "Action Input: \"current weather conditions in Hangzhou\"\u001B[0m\u001B[36;1m\u001B[1;3m71°F\u001B[0m\u001B[32;1m\u001B[1;3mI need more specific details about the weather conditions like precipitation, wind speed, and whether it is sunny or cloudy to provide a complete recommendation.\n",
      "\n",
      "Action: Get current info\n",
      "Action Input: \"current weather forecast for Hangzhou\"\u001B[0m\u001B[36;1m\u001B[1;3m71°F\u001B[0m\u001B[32;1m\u001B[1;3mIt seems that I am repeatedly getting the same temperature information without the necessary additional details. Instead of continuing with the same approach, I should provide some general advice based on the given temperature of 71°F (around 22°C), which is moderate.\n",
      "\n",
      "Thought: Based on the moderate temperature of 71°F, I can recommend suitable attire.\n",
      "\n",
      "Final Answer: With the current temperature in Hangzhou being around 71°F (22°C), it is comfortable to wear light to medium-weight clothing. You might consider wearing a t-shirt or blouse with jeans or pants. Carrying a light jacket or sweater is also advisable, especially for the evening when temperatures may drop.\u001B[0m\n",
      "\n",
      "\u001B[1m> Finished chain.\u001B[0m\n"
     ]
    },
    {
     "data": {
      "text/plain": [
       "{'input': '杭州今天穿什么合适？',\n",
       " 'output': 'With the current temperature in Hangzhou being around 71°F (22°C), it is comfortable to wear light to medium-weight clothing. You might consider wearing a t-shirt or blouse with jeans or pants. Carrying a light jacket or sweater is also advisable, especially for the evening when temperatures may drop.'}"
      ]
     },
     "execution_count": 2,
     "metadata": {},
     "output_type": "execute_result"
    }
   ],
   "execution_count": 2
  },
  {
   "metadata": {
    "ExecuteTime": {
     "end_time": "2024-06-10T13:17:20.041359Z",
     "start_time": "2024-06-10T13:17:04.629604Z"
    }
   },
   "cell_type": "code",
   "source": [
    "agent_executor.invoke({\"input\": \"如何修复的ADX集群？\"})\n",
    "# agent_executor.invoke({\"input\": \"What's wrong with the cluster 'ADX'? And if there's an error, give me some suggestion. \"})"
   ],
   "id": "c31e9ae7cdbe1b49",
   "outputs": [
    {
     "name": "stdout",
     "output_type": "stream",
     "text": [
      "\n",
      "\n",
      "\u001B[1m> Entering new AgentExecutor chain...\u001B[0m\n",
      "\u001B[32;1m\u001B[1;3mTo answer the question \"如何修复的ADX集群？\" (How to repair an ADX cluster?), I need to gather specific information about the current state of the ADX cluster. \n",
      "\n",
      "Action: Get current cluster state\n",
      "Action Input: ADX cluster\n",
      "\u001B[0mcluster:ADX cluster\n",
      "\n",
      "\u001B[33;1m\u001B[1;3mERROR: Failed to pull image \"chaocai/docker/dsp:latest\u001B[0m\u001B[32;1m\u001B[1;3mIt seems that there was an error in retrieving the current state of the ADX cluster. This error might indicate issues with the infrastructure or the service itself. Let's break down the approach to repair an ADX (Azure Data Explorer) cluster:\n",
      "\n",
      "1. **Check Cluster State**: Start by examining the current state of the ADX cluster. This includes looking for any status messages or alerts.\n",
      "\n",
      "2. **Review Logs**: Check the logs for any anomalies or specific error messages that can give clues on what might be wrong.\n",
      "\n",
      "3. **Restart Services**: Sometimes, simply restarting the services can resolve transient issues.\n",
      "\n",
      "4. **Check Resource Utilization**: Ensure that the cluster has enough resources (CPU, memory, storage) to operate correctly.\n",
      "\n",
      "5. **Update Cluster Configuration**: Verify that the cluster configuration settings are correct and make any necessary adjustments.\n",
      "\n",
      "6. **Consult Azure Support**: If the problem persists, reach out to Azure support for further assistance.\n",
      "\n",
      "Given that the current action to pull the state of the ADX cluster failed, it’s crucial to manually check the mentioned points and possibly consult Azure documentation or support for more specific troubleshooting steps.\n",
      "\n",
      "Final Answer: To repair an ADX (Azure Data Explorer) cluster, follow these steps:\n",
      "1. Check the current\u001B[0m\n",
      "\n",
      "\u001B[1m> Finished chain.\u001B[0m\n"
     ]
    },
    {
     "data": {
      "text/plain": [
       "{'input': '如何修复的ADX集群？',\n",
       " 'output': 'To repair an ADX (Azure Data Explorer) cluster, follow these steps:\\n1. Check the current'}"
      ]
     },
     "execution_count": 16,
     "metadata": {},
     "output_type": "execute_result"
    }
   ],
   "execution_count": 16
  },
  {
   "metadata": {
    "ExecuteTime": {
     "end_time": "2024-06-09T14:55:26.355032Z",
     "start_time": "2024-06-09T14:54:11.162338Z"
    }
   },
   "cell_type": "code",
   "source": "!pip install wolframalpha",
   "id": "a0213dfeca57cbe4",
   "outputs": [
    {
     "name": "stdout",
     "output_type": "stream",
     "text": [
      "Collecting wolframalpha\r\n",
      "\u001B[33m  WARNING: Retrying (Retry(total=4, connect=None, read=None, redirect=None, status=None)) after connection broken by 'ConnectTimeoutError(<pip._vendor.urllib3.connection.HTTPSConnection object at 0x1100603e0>, 'Connection to files.pythonhosted.org timed out. (connect timeout=15)')': /packages/8c/95/c89a74e5839a249c1ea66830afe39b92ffb04b91fafec449abb921eb97b6/wolframalpha-5.1.3-py3-none-any.whl.metadata\u001B[0m\u001B[33m\r\n",
      "\u001B[0m  Downloading wolframalpha-5.1.3-py3-none-any.whl.metadata (2.4 kB)\r\n",
      "Collecting xmltodict (from wolframalpha)\r\n",
      "  Downloading xmltodict-0.13.0-py2.py3-none-any.whl.metadata (7.7 kB)\r\n",
      "Collecting more-itertools (from wolframalpha)\r\n",
      "  Downloading more_itertools-10.2.0-py3-none-any.whl.metadata (34 kB)\r\n",
      "Collecting jaraco.context (from wolframalpha)\r\n",
      "  Downloading jaraco.context-5.3.0-py3-none-any.whl.metadata (4.0 kB)\r\n",
      "Requirement already satisfied: httpx in /Users/gevin/projects/pycharm/ai/venv/lib/python3.12/site-packages (from wolframalpha) (0.27.0)\r\n",
      "Requirement already satisfied: multidict in /Users/gevin/projects/pycharm/ai/venv/lib/python3.12/site-packages (from wolframalpha) (6.0.5)\r\n",
      "Requirement already satisfied: anyio in /Users/gevin/projects/pycharm/ai/venv/lib/python3.12/site-packages (from httpx->wolframalpha) (4.4.0)\r\n",
      "Requirement already satisfied: certifi in /Users/gevin/projects/pycharm/ai/venv/lib/python3.12/site-packages (from httpx->wolframalpha) (2024.6.2)\r\n",
      "Requirement already satisfied: httpcore==1.* in /Users/gevin/projects/pycharm/ai/venv/lib/python3.12/site-packages (from httpx->wolframalpha) (1.0.5)\r\n",
      "Requirement already satisfied: idna in /Users/gevin/projects/pycharm/ai/venv/lib/python3.12/site-packages (from httpx->wolframalpha) (3.7)\r\n",
      "Requirement already satisfied: sniffio in /Users/gevin/projects/pycharm/ai/venv/lib/python3.12/site-packages (from httpx->wolframalpha) (1.3.1)\r\n",
      "Requirement already satisfied: h11<0.15,>=0.13 in /Users/gevin/projects/pycharm/ai/venv/lib/python3.12/site-packages (from httpcore==1.*->httpx->wolframalpha) (0.14.0)\r\n",
      "Downloading wolframalpha-5.1.3-py3-none-any.whl (6.3 kB)\r\n",
      "Downloading jaraco.context-5.3.0-py3-none-any.whl (6.5 kB)\r\n",
      "Downloading more_itertools-10.2.0-py3-none-any.whl (57 kB)\r\n",
      "\u001B[2K   \u001B[90m━━━━━━━━━━━━━━━━━━━━━━━━━━━━━━━━━━━━━━━━\u001B[0m \u001B[32m57.0/57.0 kB\u001B[0m \u001B[31m4.5 kB/s\u001B[0m eta \u001B[36m0:00:00\u001B[0ma \u001B[36m0:00:02\u001B[0m\r\n",
      "\u001B[?25hDownloading xmltodict-0.13.0-py2.py3-none-any.whl (10.0 kB)\r\n",
      "Installing collected packages: xmltodict, more-itertools, jaraco.context, wolframalpha\r\n",
      "Successfully installed jaraco.context-5.3.0 more-itertools-10.2.0 wolframalpha-5.1.3 xmltodict-0.13.0\r\n"
     ]
    }
   ],
   "execution_count": 20
  },
  {
   "metadata": {
    "ExecuteTime": {
     "end_time": "2024-06-09T14:57:19.854331Z",
     "start_time": "2024-06-09T14:57:19.850229Z"
    }
   },
   "cell_type": "code",
   "source": [
    "from langchain.utilities.wolfram_alpha import WolframAlphaAPIWrapper\n",
    "def wolfram_api(question):\n",
    "    wolfram = WolframAlphaAPIWrapper()\n",
    "    return wolfram.run(question)"
   ],
   "id": "7e89ad9939a4eca",
   "outputs": [],
   "execution_count": 22
  },
  {
   "metadata": {
    "ExecuteTime": {
     "end_time": "2024-06-09T14:57:23.862728Z",
     "start_time": "2024-06-09T14:57:23.818577Z"
    }
   },
   "cell_type": "code",
   "source": "wolfram_api(\"What is 2x+5 = -3x + 7?\")",
   "id": "198fcdc171b38aa1",
   "outputs": [
    {
     "ename": "ValidationError",
     "evalue": "1 validation error for WolframAlphaAPIWrapper\n__root__\n  Did not find wolfram_alpha_appid, please add an environment variable `WOLFRAM_ALPHA_APPID` which contains it, or pass `wolfram_alpha_appid` as a named parameter. (type=value_error)",
     "output_type": "error",
     "traceback": [
      "\u001B[0;31m---------------------------------------------------------------------------\u001B[0m",
      "\u001B[0;31mValidationError\u001B[0m                           Traceback (most recent call last)",
      "Cell \u001B[0;32mIn[23], line 1\u001B[0m\n\u001B[0;32m----> 1\u001B[0m \u001B[43mwolfram_api\u001B[49m\u001B[43m(\u001B[49m\u001B[38;5;124;43m\"\u001B[39;49m\u001B[38;5;124;43mWhat is 2x+5 = -3x + 7?\u001B[39;49m\u001B[38;5;124;43m\"\u001B[39;49m\u001B[43m)\u001B[49m\n",
      "Cell \u001B[0;32mIn[22], line 3\u001B[0m, in \u001B[0;36mwolfram_api\u001B[0;34m(question)\u001B[0m\n\u001B[1;32m      2\u001B[0m \u001B[38;5;28;01mdef\u001B[39;00m \u001B[38;5;21mwolfram_api\u001B[39m(question):\n\u001B[0;32m----> 3\u001B[0m     wolfram \u001B[38;5;241m=\u001B[39m \u001B[43mWolframAlphaAPIWrapper\u001B[49m\u001B[43m(\u001B[49m\u001B[43m)\u001B[49m\n\u001B[1;32m      4\u001B[0m     \u001B[38;5;28;01mreturn\u001B[39;00m wolfram\u001B[38;5;241m.\u001B[39mrun(question)\n",
      "File \u001B[0;32m~/projects/pycharm/ai/venv/lib/python3.12/site-packages/pydantic/v1/main.py:341\u001B[0m, in \u001B[0;36mBaseModel.__init__\u001B[0;34m(__pydantic_self__, **data)\u001B[0m\n\u001B[1;32m    339\u001B[0m values, fields_set, validation_error \u001B[38;5;241m=\u001B[39m validate_model(__pydantic_self__\u001B[38;5;241m.\u001B[39m\u001B[38;5;18m__class__\u001B[39m, data)\n\u001B[1;32m    340\u001B[0m \u001B[38;5;28;01mif\u001B[39;00m validation_error:\n\u001B[0;32m--> 341\u001B[0m     \u001B[38;5;28;01mraise\u001B[39;00m validation_error\n\u001B[1;32m    342\u001B[0m \u001B[38;5;28;01mtry\u001B[39;00m:\n\u001B[1;32m    343\u001B[0m     object_setattr(__pydantic_self__, \u001B[38;5;124m'\u001B[39m\u001B[38;5;124m__dict__\u001B[39m\u001B[38;5;124m'\u001B[39m, values)\n",
      "\u001B[0;31mValidationError\u001B[0m: 1 validation error for WolframAlphaAPIWrapper\n__root__\n  Did not find wolfram_alpha_appid, please add an environment variable `WOLFRAM_ALPHA_APPID` which contains it, or pass `wolfram_alpha_appid` as a named parameter. (type=value_error)"
     ]
    }
   ],
   "execution_count": 23
  },
  {
   "metadata": {
    "ExecuteTime": {
     "end_time": "2024-06-09T15:07:44.571491Z",
     "start_time": "2024-06-09T15:07:44.568273Z"
    }
   },
   "cell_type": "code",
   "source": [
    "tools = [\n",
    "    Tool(\n",
    "        name = \"Get current info\",func=query_web,\n",
    "        description=\"\"\"invoke it for when you need to answer questions about current info.\n",
    "             And the input should be a search query.\"\"\"),\n",
    "    Tool(\n",
    "        name=\"Get current cluster state\", func=get_current_cluster_state,\n",
    "        description=\"\"\"invoke it for when you need to get the current state in a given cluster, \n",
    "        And the input should be service name.\"\"\"),\n",
    "    Tool(\n",
    "        name=\"Invoke WolframAlpha API\", func=wolfram_api,\n",
    "        description=\"\"\"invoke it for when you need to anwser or solve a mathematical question, \n",
    "        And the input is the mathematical equations\"\"\")\n",
    "]\n",
    "\n",
    "agent = initialize_agent(tools, llm, agent=AgentType.ZERO_SHOT_REACT_DESCRIPTION, max_iterations=10, verbose=True)"
   ],
   "id": "6f8f5ef5cef704ba",
   "outputs": [],
   "execution_count": 24
  },
  {
   "metadata": {
    "ExecuteTime": {
     "end_time": "2024-06-09T15:08:04.749480Z",
     "start_time": "2024-06-09T15:07:58.625449Z"
    }
   },
   "cell_type": "code",
   "source": "agent.invoke(\"在一个外星球上，这里的鸡都长着3只脚1个头，免子有4只脚1个头，一个装着鸡和免子的笼子里一共有20个头，71只脚，请问笼子里各有多少只鸡和免子？\")",
   "id": "1731a320af3b79a4",
   "outputs": [
    {
     "name": "stdout",
     "output_type": "stream",
     "text": [
      "\n",
      "\n",
      "\u001B[1m> Entering new AgentExecutor chain...\u001B[0m\n",
      "\u001B[32;1m\u001B[1;3m这个问题可以看作是一个包含两个变量的线性方程组问题。我们可以设鸡的数量为\\( x \\)，兔子的数量为\\( y \\)。根据题意，可以列出以下两个方程：\n",
      "\n",
      "1. \\( x + y = 20 \\)（头的总数）\n",
      "2. \\( 3x + 4y = 71 \\)（脚的总数）\n",
      "\n",
      "接下来，我们将使用WolframAlpha API来解决这个方程组。\n",
      "\n",
      "Action: Invoke WolframAlpha API\n",
      "Action Input: solve x + y = 20, 3x + 4y = 71\u001B[0m"
     ]
    },
    {
     "ename": "ValidationError",
     "evalue": "1 validation error for WolframAlphaAPIWrapper\n__root__\n  Did not find wolfram_alpha_appid, please add an environment variable `WOLFRAM_ALPHA_APPID` which contains it, or pass `wolfram_alpha_appid` as a named parameter. (type=value_error)",
     "output_type": "error",
     "traceback": [
      "\u001B[0;31m---------------------------------------------------------------------------\u001B[0m",
      "\u001B[0;31mValidationError\u001B[0m                           Traceback (most recent call last)",
      "Cell \u001B[0;32mIn[25], line 1\u001B[0m\n\u001B[0;32m----> 1\u001B[0m \u001B[43magent\u001B[49m\u001B[38;5;241;43m.\u001B[39;49m\u001B[43minvoke\u001B[49m\u001B[43m(\u001B[49m\u001B[38;5;124;43m\"\u001B[39;49m\u001B[38;5;124;43m在一个外星球上，这里的鸡都长着3只脚1个头，免子有4只脚1个头，一个装着鸡和免子的笼子里一共有20个头，71只脚，请问笼子里各有多少只鸡和免子？\u001B[39;49m\u001B[38;5;124;43m\"\u001B[39;49m\u001B[43m)\u001B[49m\n",
      "File \u001B[0;32m~/projects/pycharm/ai/venv/lib/python3.12/site-packages/langchain/chains/base.py:166\u001B[0m, in \u001B[0;36mChain.invoke\u001B[0;34m(self, input, config, **kwargs)\u001B[0m\n\u001B[1;32m    164\u001B[0m \u001B[38;5;28;01mexcept\u001B[39;00m \u001B[38;5;167;01mBaseException\u001B[39;00m \u001B[38;5;28;01mas\u001B[39;00m e:\n\u001B[1;32m    165\u001B[0m     run_manager\u001B[38;5;241m.\u001B[39mon_chain_error(e)\n\u001B[0;32m--> 166\u001B[0m     \u001B[38;5;28;01mraise\u001B[39;00m e\n\u001B[1;32m    167\u001B[0m run_manager\u001B[38;5;241m.\u001B[39mon_chain_end(outputs)\n\u001B[1;32m    169\u001B[0m \u001B[38;5;28;01mif\u001B[39;00m include_run_info:\n",
      "File \u001B[0;32m~/projects/pycharm/ai/venv/lib/python3.12/site-packages/langchain/chains/base.py:156\u001B[0m, in \u001B[0;36mChain.invoke\u001B[0;34m(self, input, config, **kwargs)\u001B[0m\n\u001B[1;32m    153\u001B[0m \u001B[38;5;28;01mtry\u001B[39;00m:\n\u001B[1;32m    154\u001B[0m     \u001B[38;5;28mself\u001B[39m\u001B[38;5;241m.\u001B[39m_validate_inputs(inputs)\n\u001B[1;32m    155\u001B[0m     outputs \u001B[38;5;241m=\u001B[39m (\n\u001B[0;32m--> 156\u001B[0m         \u001B[38;5;28;43mself\u001B[39;49m\u001B[38;5;241;43m.\u001B[39;49m\u001B[43m_call\u001B[49m\u001B[43m(\u001B[49m\u001B[43minputs\u001B[49m\u001B[43m,\u001B[49m\u001B[43m \u001B[49m\u001B[43mrun_manager\u001B[49m\u001B[38;5;241;43m=\u001B[39;49m\u001B[43mrun_manager\u001B[49m\u001B[43m)\u001B[49m\n\u001B[1;32m    157\u001B[0m         \u001B[38;5;28;01mif\u001B[39;00m new_arg_supported\n\u001B[1;32m    158\u001B[0m         \u001B[38;5;28;01melse\u001B[39;00m \u001B[38;5;28mself\u001B[39m\u001B[38;5;241m.\u001B[39m_call(inputs)\n\u001B[1;32m    159\u001B[0m     )\n\u001B[1;32m    161\u001B[0m     final_outputs: Dict[\u001B[38;5;28mstr\u001B[39m, Any] \u001B[38;5;241m=\u001B[39m \u001B[38;5;28mself\u001B[39m\u001B[38;5;241m.\u001B[39mprep_outputs(\n\u001B[1;32m    162\u001B[0m         inputs, outputs, return_only_outputs\n\u001B[1;32m    163\u001B[0m     )\n\u001B[1;32m    164\u001B[0m \u001B[38;5;28;01mexcept\u001B[39;00m \u001B[38;5;167;01mBaseException\u001B[39;00m \u001B[38;5;28;01mas\u001B[39;00m e:\n",
      "File \u001B[0;32m~/projects/pycharm/ai/venv/lib/python3.12/site-packages/langchain/agents/agent.py:1433\u001B[0m, in \u001B[0;36mAgentExecutor._call\u001B[0;34m(self, inputs, run_manager)\u001B[0m\n\u001B[1;32m   1431\u001B[0m \u001B[38;5;66;03m# We now enter the agent loop (until it returns something).\u001B[39;00m\n\u001B[1;32m   1432\u001B[0m \u001B[38;5;28;01mwhile\u001B[39;00m \u001B[38;5;28mself\u001B[39m\u001B[38;5;241m.\u001B[39m_should_continue(iterations, time_elapsed):\n\u001B[0;32m-> 1433\u001B[0m     next_step_output \u001B[38;5;241m=\u001B[39m \u001B[38;5;28;43mself\u001B[39;49m\u001B[38;5;241;43m.\u001B[39;49m\u001B[43m_take_next_step\u001B[49m\u001B[43m(\u001B[49m\n\u001B[1;32m   1434\u001B[0m \u001B[43m        \u001B[49m\u001B[43mname_to_tool_map\u001B[49m\u001B[43m,\u001B[49m\n\u001B[1;32m   1435\u001B[0m \u001B[43m        \u001B[49m\u001B[43mcolor_mapping\u001B[49m\u001B[43m,\u001B[49m\n\u001B[1;32m   1436\u001B[0m \u001B[43m        \u001B[49m\u001B[43minputs\u001B[49m\u001B[43m,\u001B[49m\n\u001B[1;32m   1437\u001B[0m \u001B[43m        \u001B[49m\u001B[43mintermediate_steps\u001B[49m\u001B[43m,\u001B[49m\n\u001B[1;32m   1438\u001B[0m \u001B[43m        \u001B[49m\u001B[43mrun_manager\u001B[49m\u001B[38;5;241;43m=\u001B[39;49m\u001B[43mrun_manager\u001B[49m\u001B[43m,\u001B[49m\n\u001B[1;32m   1439\u001B[0m \u001B[43m    \u001B[49m\u001B[43m)\u001B[49m\n\u001B[1;32m   1440\u001B[0m     \u001B[38;5;28;01mif\u001B[39;00m \u001B[38;5;28misinstance\u001B[39m(next_step_output, AgentFinish):\n\u001B[1;32m   1441\u001B[0m         \u001B[38;5;28;01mreturn\u001B[39;00m \u001B[38;5;28mself\u001B[39m\u001B[38;5;241m.\u001B[39m_return(\n\u001B[1;32m   1442\u001B[0m             next_step_output, intermediate_steps, run_manager\u001B[38;5;241m=\u001B[39mrun_manager\n\u001B[1;32m   1443\u001B[0m         )\n",
      "File \u001B[0;32m~/projects/pycharm/ai/venv/lib/python3.12/site-packages/langchain/agents/agent.py:1139\u001B[0m, in \u001B[0;36mAgentExecutor._take_next_step\u001B[0;34m(self, name_to_tool_map, color_mapping, inputs, intermediate_steps, run_manager)\u001B[0m\n\u001B[1;32m   1130\u001B[0m \u001B[38;5;28;01mdef\u001B[39;00m \u001B[38;5;21m_take_next_step\u001B[39m(\n\u001B[1;32m   1131\u001B[0m     \u001B[38;5;28mself\u001B[39m,\n\u001B[1;32m   1132\u001B[0m     name_to_tool_map: Dict[\u001B[38;5;28mstr\u001B[39m, BaseTool],\n\u001B[0;32m   (...)\u001B[0m\n\u001B[1;32m   1136\u001B[0m     run_manager: Optional[CallbackManagerForChainRun] \u001B[38;5;241m=\u001B[39m \u001B[38;5;28;01mNone\u001B[39;00m,\n\u001B[1;32m   1137\u001B[0m ) \u001B[38;5;241m-\u001B[39m\u001B[38;5;241m>\u001B[39m Union[AgentFinish, List[Tuple[AgentAction, \u001B[38;5;28mstr\u001B[39m]]]:\n\u001B[1;32m   1138\u001B[0m     \u001B[38;5;28;01mreturn\u001B[39;00m \u001B[38;5;28mself\u001B[39m\u001B[38;5;241m.\u001B[39m_consume_next_step(\n\u001B[0;32m-> 1139\u001B[0m         \u001B[43m[\u001B[49m\n\u001B[1;32m   1140\u001B[0m \u001B[43m            \u001B[49m\u001B[43ma\u001B[49m\n\u001B[1;32m   1141\u001B[0m \u001B[43m            \u001B[49m\u001B[38;5;28;43;01mfor\u001B[39;49;00m\u001B[43m \u001B[49m\u001B[43ma\u001B[49m\u001B[43m \u001B[49m\u001B[38;5;129;43;01min\u001B[39;49;00m\u001B[43m \u001B[49m\u001B[38;5;28;43mself\u001B[39;49m\u001B[38;5;241;43m.\u001B[39;49m\u001B[43m_iter_next_step\u001B[49m\u001B[43m(\u001B[49m\n\u001B[1;32m   1142\u001B[0m \u001B[43m                \u001B[49m\u001B[43mname_to_tool_map\u001B[49m\u001B[43m,\u001B[49m\n\u001B[1;32m   1143\u001B[0m \u001B[43m                \u001B[49m\u001B[43mcolor_mapping\u001B[49m\u001B[43m,\u001B[49m\n\u001B[1;32m   1144\u001B[0m \u001B[43m                \u001B[49m\u001B[43minputs\u001B[49m\u001B[43m,\u001B[49m\n\u001B[1;32m   1145\u001B[0m \u001B[43m                \u001B[49m\u001B[43mintermediate_steps\u001B[49m\u001B[43m,\u001B[49m\n\u001B[1;32m   1146\u001B[0m \u001B[43m                \u001B[49m\u001B[43mrun_manager\u001B[49m\u001B[43m,\u001B[49m\n\u001B[1;32m   1147\u001B[0m \u001B[43m            \u001B[49m\u001B[43m)\u001B[49m\n\u001B[1;32m   1148\u001B[0m \u001B[43m        \u001B[49m\u001B[43m]\u001B[49m\n\u001B[1;32m   1149\u001B[0m     )\n",
      "File \u001B[0;32m~/projects/pycharm/ai/venv/lib/python3.12/site-packages/langchain/agents/agent.py:1224\u001B[0m, in \u001B[0;36mAgentExecutor._iter_next_step\u001B[0;34m(self, name_to_tool_map, color_mapping, inputs, intermediate_steps, run_manager)\u001B[0m\n\u001B[1;32m   1222\u001B[0m     \u001B[38;5;28;01myield\u001B[39;00m agent_action\n\u001B[1;32m   1223\u001B[0m \u001B[38;5;28;01mfor\u001B[39;00m agent_action \u001B[38;5;129;01min\u001B[39;00m actions:\n\u001B[0;32m-> 1224\u001B[0m     \u001B[38;5;28;01myield\u001B[39;00m \u001B[38;5;28;43mself\u001B[39;49m\u001B[38;5;241;43m.\u001B[39;49m\u001B[43m_perform_agent_action\u001B[49m\u001B[43m(\u001B[49m\n\u001B[1;32m   1225\u001B[0m \u001B[43m        \u001B[49m\u001B[43mname_to_tool_map\u001B[49m\u001B[43m,\u001B[49m\u001B[43m \u001B[49m\u001B[43mcolor_mapping\u001B[49m\u001B[43m,\u001B[49m\u001B[43m \u001B[49m\u001B[43magent_action\u001B[49m\u001B[43m,\u001B[49m\u001B[43m \u001B[49m\u001B[43mrun_manager\u001B[49m\n\u001B[1;32m   1226\u001B[0m \u001B[43m    \u001B[49m\u001B[43m)\u001B[49m\n",
      "File \u001B[0;32m~/projects/pycharm/ai/venv/lib/python3.12/site-packages/langchain/agents/agent.py:1246\u001B[0m, in \u001B[0;36mAgentExecutor._perform_agent_action\u001B[0;34m(self, name_to_tool_map, color_mapping, agent_action, run_manager)\u001B[0m\n\u001B[1;32m   1244\u001B[0m         tool_run_kwargs[\u001B[38;5;124m\"\u001B[39m\u001B[38;5;124mllm_prefix\u001B[39m\u001B[38;5;124m\"\u001B[39m] \u001B[38;5;241m=\u001B[39m \u001B[38;5;124m\"\u001B[39m\u001B[38;5;124m\"\u001B[39m\n\u001B[1;32m   1245\u001B[0m     \u001B[38;5;66;03m# We then call the tool on the tool input to get an observation\u001B[39;00m\n\u001B[0;32m-> 1246\u001B[0m     observation \u001B[38;5;241m=\u001B[39m \u001B[43mtool\u001B[49m\u001B[38;5;241;43m.\u001B[39;49m\u001B[43mrun\u001B[49m\u001B[43m(\u001B[49m\n\u001B[1;32m   1247\u001B[0m \u001B[43m        \u001B[49m\u001B[43magent_action\u001B[49m\u001B[38;5;241;43m.\u001B[39;49m\u001B[43mtool_input\u001B[49m\u001B[43m,\u001B[49m\n\u001B[1;32m   1248\u001B[0m \u001B[43m        \u001B[49m\u001B[43mverbose\u001B[49m\u001B[38;5;241;43m=\u001B[39;49m\u001B[38;5;28;43mself\u001B[39;49m\u001B[38;5;241;43m.\u001B[39;49m\u001B[43mverbose\u001B[49m\u001B[43m,\u001B[49m\n\u001B[1;32m   1249\u001B[0m \u001B[43m        \u001B[49m\u001B[43mcolor\u001B[49m\u001B[38;5;241;43m=\u001B[39;49m\u001B[43mcolor\u001B[49m\u001B[43m,\u001B[49m\n\u001B[1;32m   1250\u001B[0m \u001B[43m        \u001B[49m\u001B[43mcallbacks\u001B[49m\u001B[38;5;241;43m=\u001B[39;49m\u001B[43mrun_manager\u001B[49m\u001B[38;5;241;43m.\u001B[39;49m\u001B[43mget_child\u001B[49m\u001B[43m(\u001B[49m\u001B[43m)\u001B[49m\u001B[43m \u001B[49m\u001B[38;5;28;43;01mif\u001B[39;49;00m\u001B[43m \u001B[49m\u001B[43mrun_manager\u001B[49m\u001B[43m \u001B[49m\u001B[38;5;28;43;01melse\u001B[39;49;00m\u001B[43m \u001B[49m\u001B[38;5;28;43;01mNone\u001B[39;49;00m\u001B[43m,\u001B[49m\n\u001B[1;32m   1251\u001B[0m \u001B[43m        \u001B[49m\u001B[38;5;241;43m*\u001B[39;49m\u001B[38;5;241;43m*\u001B[39;49m\u001B[43mtool_run_kwargs\u001B[49m\u001B[43m,\u001B[49m\n\u001B[1;32m   1252\u001B[0m \u001B[43m    \u001B[49m\u001B[43m)\u001B[49m\n\u001B[1;32m   1253\u001B[0m \u001B[38;5;28;01melse\u001B[39;00m:\n\u001B[1;32m   1254\u001B[0m     tool_run_kwargs \u001B[38;5;241m=\u001B[39m \u001B[38;5;28mself\u001B[39m\u001B[38;5;241m.\u001B[39magent\u001B[38;5;241m.\u001B[39mtool_run_logging_kwargs()\n",
      "File \u001B[0;32m~/projects/pycharm/ai/venv/lib/python3.12/site-packages/langchain_core/tools.py:417\u001B[0m, in \u001B[0;36mBaseTool.run\u001B[0;34m(self, tool_input, verbose, start_color, color, callbacks, tags, metadata, run_name, run_id, config, **kwargs)\u001B[0m\n\u001B[1;32m    415\u001B[0m \u001B[38;5;28;01mexcept\u001B[39;00m ValidationError \u001B[38;5;28;01mas\u001B[39;00m e:\n\u001B[1;32m    416\u001B[0m     \u001B[38;5;28;01mif\u001B[39;00m \u001B[38;5;129;01mnot\u001B[39;00m \u001B[38;5;28mself\u001B[39m\u001B[38;5;241m.\u001B[39mhandle_validation_error:\n\u001B[0;32m--> 417\u001B[0m         \u001B[38;5;28;01mraise\u001B[39;00m e\n\u001B[1;32m    418\u001B[0m     \u001B[38;5;28;01melif\u001B[39;00m \u001B[38;5;28misinstance\u001B[39m(\u001B[38;5;28mself\u001B[39m\u001B[38;5;241m.\u001B[39mhandle_validation_error, \u001B[38;5;28mbool\u001B[39m):\n\u001B[1;32m    419\u001B[0m         observation \u001B[38;5;241m=\u001B[39m \u001B[38;5;124m\"\u001B[39m\u001B[38;5;124mTool input validation error\u001B[39m\u001B[38;5;124m\"\u001B[39m\n",
      "File \u001B[0;32m~/projects/pycharm/ai/venv/lib/python3.12/site-packages/langchain_core/tools.py:409\u001B[0m, in \u001B[0;36mBaseTool.run\u001B[0;34m(self, tool_input, verbose, start_color, color, callbacks, tags, metadata, run_name, run_id, config, **kwargs)\u001B[0m\n\u001B[1;32m    406\u001B[0m     parsed_input \u001B[38;5;241m=\u001B[39m \u001B[38;5;28mself\u001B[39m\u001B[38;5;241m.\u001B[39m_parse_input(tool_input)\n\u001B[1;32m    407\u001B[0m     tool_args, tool_kwargs \u001B[38;5;241m=\u001B[39m \u001B[38;5;28mself\u001B[39m\u001B[38;5;241m.\u001B[39m_to_args_and_kwargs(parsed_input)\n\u001B[1;32m    408\u001B[0m     observation \u001B[38;5;241m=\u001B[39m (\n\u001B[0;32m--> 409\u001B[0m         \u001B[43mcontext\u001B[49m\u001B[38;5;241;43m.\u001B[39;49m\u001B[43mrun\u001B[49m\u001B[43m(\u001B[49m\n\u001B[1;32m    410\u001B[0m \u001B[43m            \u001B[49m\u001B[38;5;28;43mself\u001B[39;49m\u001B[38;5;241;43m.\u001B[39;49m\u001B[43m_run\u001B[49m\u001B[43m,\u001B[49m\u001B[43m \u001B[49m\u001B[38;5;241;43m*\u001B[39;49m\u001B[43mtool_args\u001B[49m\u001B[43m,\u001B[49m\u001B[43m \u001B[49m\u001B[43mrun_manager\u001B[49m\u001B[38;5;241;43m=\u001B[39;49m\u001B[43mrun_manager\u001B[49m\u001B[43m,\u001B[49m\u001B[43m \u001B[49m\u001B[38;5;241;43m*\u001B[39;49m\u001B[38;5;241;43m*\u001B[39;49m\u001B[43mtool_kwargs\u001B[49m\n\u001B[1;32m    411\u001B[0m \u001B[43m        \u001B[49m\u001B[43m)\u001B[49m\n\u001B[1;32m    412\u001B[0m         \u001B[38;5;28;01mif\u001B[39;00m new_arg_supported\n\u001B[1;32m    413\u001B[0m         \u001B[38;5;28;01melse\u001B[39;00m context\u001B[38;5;241m.\u001B[39mrun(\u001B[38;5;28mself\u001B[39m\u001B[38;5;241m.\u001B[39m_run, \u001B[38;5;241m*\u001B[39mtool_args, \u001B[38;5;241m*\u001B[39m\u001B[38;5;241m*\u001B[39mtool_kwargs)\n\u001B[1;32m    414\u001B[0m     )\n\u001B[1;32m    415\u001B[0m \u001B[38;5;28;01mexcept\u001B[39;00m ValidationError \u001B[38;5;28;01mas\u001B[39;00m e:\n\u001B[1;32m    416\u001B[0m     \u001B[38;5;28;01mif\u001B[39;00m \u001B[38;5;129;01mnot\u001B[39;00m \u001B[38;5;28mself\u001B[39m\u001B[38;5;241m.\u001B[39mhandle_validation_error:\n",
      "File \u001B[0;32m~/projects/pycharm/ai/venv/lib/python3.12/site-packages/langchain_core/tools.py:633\u001B[0m, in \u001B[0;36mTool._run\u001B[0;34m(self, run_manager, *args, **kwargs)\u001B[0m\n\u001B[1;32m    624\u001B[0m \u001B[38;5;28;01mif\u001B[39;00m \u001B[38;5;28mself\u001B[39m\u001B[38;5;241m.\u001B[39mfunc:\n\u001B[1;32m    625\u001B[0m     new_argument_supported \u001B[38;5;241m=\u001B[39m signature(\u001B[38;5;28mself\u001B[39m\u001B[38;5;241m.\u001B[39mfunc)\u001B[38;5;241m.\u001B[39mparameters\u001B[38;5;241m.\u001B[39mget(\u001B[38;5;124m\"\u001B[39m\u001B[38;5;124mcallbacks\u001B[39m\u001B[38;5;124m\"\u001B[39m)\n\u001B[1;32m    626\u001B[0m     \u001B[38;5;28;01mreturn\u001B[39;00m (\n\u001B[1;32m    627\u001B[0m         \u001B[38;5;28mself\u001B[39m\u001B[38;5;241m.\u001B[39mfunc(\n\u001B[1;32m    628\u001B[0m             \u001B[38;5;241m*\u001B[39margs,\n\u001B[1;32m    629\u001B[0m             callbacks\u001B[38;5;241m=\u001B[39mrun_manager\u001B[38;5;241m.\u001B[39mget_child() \u001B[38;5;28;01mif\u001B[39;00m run_manager \u001B[38;5;28;01melse\u001B[39;00m \u001B[38;5;28;01mNone\u001B[39;00m,\n\u001B[1;32m    630\u001B[0m             \u001B[38;5;241m*\u001B[39m\u001B[38;5;241m*\u001B[39mkwargs,\n\u001B[1;32m    631\u001B[0m         )\n\u001B[1;32m    632\u001B[0m         \u001B[38;5;28;01mif\u001B[39;00m new_argument_supported\n\u001B[0;32m--> 633\u001B[0m         \u001B[38;5;28;01melse\u001B[39;00m \u001B[38;5;28;43mself\u001B[39;49m\u001B[38;5;241;43m.\u001B[39;49m\u001B[43mfunc\u001B[49m\u001B[43m(\u001B[49m\u001B[38;5;241;43m*\u001B[39;49m\u001B[43margs\u001B[49m\u001B[43m,\u001B[49m\u001B[43m \u001B[49m\u001B[38;5;241;43m*\u001B[39;49m\u001B[38;5;241;43m*\u001B[39;49m\u001B[43mkwargs\u001B[49m\u001B[43m)\u001B[49m\n\u001B[1;32m    634\u001B[0m     )\n\u001B[1;32m    635\u001B[0m \u001B[38;5;28;01mraise\u001B[39;00m \u001B[38;5;167;01mNotImplementedError\u001B[39;00m(\u001B[38;5;124m\"\u001B[39m\u001B[38;5;124mTool does not support sync\u001B[39m\u001B[38;5;124m\"\u001B[39m)\n",
      "Cell \u001B[0;32mIn[22], line 3\u001B[0m, in \u001B[0;36mwolfram_api\u001B[0;34m(question)\u001B[0m\n\u001B[1;32m      2\u001B[0m \u001B[38;5;28;01mdef\u001B[39;00m \u001B[38;5;21mwolfram_api\u001B[39m(question):\n\u001B[0;32m----> 3\u001B[0m     wolfram \u001B[38;5;241m=\u001B[39m \u001B[43mWolframAlphaAPIWrapper\u001B[49m\u001B[43m(\u001B[49m\u001B[43m)\u001B[49m\n\u001B[1;32m      4\u001B[0m     \u001B[38;5;28;01mreturn\u001B[39;00m wolfram\u001B[38;5;241m.\u001B[39mrun(question)\n",
      "File \u001B[0;32m~/projects/pycharm/ai/venv/lib/python3.12/site-packages/pydantic/v1/main.py:341\u001B[0m, in \u001B[0;36mBaseModel.__init__\u001B[0;34m(__pydantic_self__, **data)\u001B[0m\n\u001B[1;32m    339\u001B[0m values, fields_set, validation_error \u001B[38;5;241m=\u001B[39m validate_model(__pydantic_self__\u001B[38;5;241m.\u001B[39m\u001B[38;5;18m__class__\u001B[39m, data)\n\u001B[1;32m    340\u001B[0m \u001B[38;5;28;01mif\u001B[39;00m validation_error:\n\u001B[0;32m--> 341\u001B[0m     \u001B[38;5;28;01mraise\u001B[39;00m validation_error\n\u001B[1;32m    342\u001B[0m \u001B[38;5;28;01mtry\u001B[39;00m:\n\u001B[1;32m    343\u001B[0m     object_setattr(__pydantic_self__, \u001B[38;5;124m'\u001B[39m\u001B[38;5;124m__dict__\u001B[39m\u001B[38;5;124m'\u001B[39m, values)\n",
      "\u001B[0;31mValidationError\u001B[0m: 1 validation error for WolframAlphaAPIWrapper\n__root__\n  Did not find wolfram_alpha_appid, please add an environment variable `WOLFRAM_ALPHA_APPID` which contains it, or pass `wolfram_alpha_appid` as a named parameter. (type=value_error)"
     ]
    }
   ],
   "execution_count": 25
  },
  {
   "metadata": {},
   "cell_type": "code",
   "outputs": [],
   "execution_count": null,
   "source": "",
   "id": "65ec0fb1dd28cd95"
  }
 ],
 "metadata": {
  "kernelspec": {
   "display_name": "Python 3",
   "language": "python",
   "name": "python3"
  },
  "language_info": {
   "codemirror_mode": {
    "name": "ipython",
    "version": 2
   },
   "file_extension": ".py",
   "mimetype": "text/x-python",
   "name": "python",
   "nbconvert_exporter": "python",
   "pygments_lexer": "ipython2",
   "version": "2.7.6"
  }
 },
 "nbformat": 4,
 "nbformat_minor": 5
}
